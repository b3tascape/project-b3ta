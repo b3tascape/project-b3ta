{
 "cells": [
  {
   "cell_type": "markdown",
   "metadata": {},
   "source": [
    "# ***PROJECT-B3TA***\n",
    "## **notebook 03 | Modeling**  \n",
    "\n",
    "---"
   ]
  },
  {
   "cell_type": "markdown",
   "metadata": {},
   "source": [
    "### 0. **Imports.**"
   ]
  },
  {
   "cell_type": "code",
   "execution_count": 2,
   "metadata": {},
   "outputs": [
    {
     "name": "stdout",
     "output_type": "stream",
     "text": [
      "Numpy version: 1.24.3\n",
      "pandas version: 2.0.3\n",
      "skLearn version: 0.24.2\n",
      "Numpy version: 1.24.3\n",
      "pandas version: 2.0.3\n",
      "skLearn version: 0.24.2\n"
     ]
    }
   ],
   "source": [
    "import numpy as np\n",
    "import pandas as pd\n",
    "## Pandas has a depedency on NumPy so loads automatically but best practice to load full NumPy package\n",
    "print(f\"Numpy version: {np.__version__}\")\n",
    "print(f\"pandas version: {pd.__version__}\")\n",
    "\n",
    "# visualisation\n",
    "import matplotlib.pyplot as plt\n",
    "import seaborn as sns\n",
    "import plotly.express as px\n",
    "import plotly.graph_objects as go\n",
    "import plotly.io as pio\n",
    "from plotly.subplots import make_subplots\n",
    "pio.renderers.default = 'notebook'\n",
    "\n",
    "# sklearn\n",
    "import sklearn as sk\n",
    "from sklearn.metrics.pairwise import cosine_similarity\n",
    "print(f\"skLearn version: {sk.__version__}\")\n",
    "\n",
    "# scipy\n",
    "import scipy\n",
    "from scipy.stats import norm\n",
    "\n",
    "# statsmodels\n",
    "import statsmodels.api as sm\n",
    "\n",
    "# b3ta functions\n",
    "import b3tafunc as b3\n"
   ]
  },
  {
   "cell_type": "markdown",
   "metadata": {},
   "source": [
    "### 1. **Dataset Loading**"
   ]
  },
  {
   "cell_type": "markdown",
   "metadata": {},
   "source": [
    "#### Load master df variants."
   ]
  },
  {
   "cell_type": "code",
   "execution_count": 17,
   "metadata": {},
   "outputs": [],
   "source": [
    "# df20 - no pre-processing\n",
    "df20 = pd.read_csv('../data/pre-processed/df20.csv', index_col=0)\n",
    "\n",
    "# df20p - pre-processed\n",
    "df20p = pd.read_csv('../data/pre-processed/df20p.csv', index_col=0)\n",
    "\n",
    "# df20p_labels - pre-processed labels only\n",
    "df20p_labels = pd.read_csv('../data/pre-processed/df20p_labels.csv', index_col=0)\n",
    "\n",
    "# df20p_num - pre-processed num only\n",
    "df20p_num = pd.read_csv('../data/pre-processed/df20p_num.csv', index_col=0)\n",
    "\n",
    "# df20p_num_scl - pre-processed num scaled only\n",
    "df20p_num_scl = pd.read_csv('../data/pre-processed/df20p_num_scl.csv', index_col=0)\n"
   ]
  },
  {
   "cell_type": "code",
   "execution_count": 18,
   "metadata": {},
   "outputs": [
    {
     "data": {
      "text/plain": [
       "sound_profile       0\n",
       "track_id            0\n",
       "artist_name         0\n",
       "track_name          0\n",
       "genre               0\n",
       "key                 0\n",
       "mode                0\n",
       "duration_ms         0\n",
       "tempo               0\n",
       "loudness            0\n",
       "energy              0\n",
       "valence             0\n",
       "danceability        0\n",
       "speechiness         0\n",
       "instrumentalness    0\n",
       "acousticness        0\n",
       "liveness            0\n",
       "dtype: int64"
      ]
     },
     "execution_count": 18,
     "metadata": {},
     "output_type": "execute_result"
    }
   ],
   "source": [
    "# Check NaNs\n",
    "df20.isna().sum()"
   ]
  },
  {
   "cell_type": "code",
   "execution_count": 19,
   "metadata": {},
   "outputs": [
    {
     "data": {
      "text/html": [
       "<div>\n",
       "<style scoped>\n",
       "    .dataframe tbody tr th:only-of-type {\n",
       "        vertical-align: middle;\n",
       "    }\n",
       "\n",
       "    .dataframe tbody tr th {\n",
       "        vertical-align: top;\n",
       "    }\n",
       "\n",
       "    .dataframe thead th {\n",
       "        text-align: right;\n",
       "    }\n",
       "</style>\n",
       "<table border=\"1\" class=\"dataframe\">\n",
       "  <thead>\n",
       "    <tr style=\"text-align: right;\">\n",
       "      <th></th>\n",
       "      <th>sound_profile</th>\n",
       "      <th>track_id</th>\n",
       "      <th>artist_name</th>\n",
       "      <th>track_name</th>\n",
       "      <th>genre</th>\n",
       "      <th>key</th>\n",
       "      <th>mode</th>\n",
       "      <th>duration_ms</th>\n",
       "      <th>tempo</th>\n",
       "      <th>loudness</th>\n",
       "      <th>energy</th>\n",
       "      <th>valence</th>\n",
       "      <th>danceability</th>\n",
       "      <th>speechiness</th>\n",
       "      <th>instrumentalness</th>\n",
       "      <th>acousticness</th>\n",
       "      <th>liveness</th>\n",
       "    </tr>\n",
       "  </thead>\n",
       "  <tbody>\n",
       "    <tr>\n",
       "      <th>0</th>\n",
       "      <td>no_profile</td>\n",
       "      <td>76XIfZlNduQtecnblkuTcE</td>\n",
       "      <td>The Academy Is...</td>\n",
       "      <td>Unexpected Places</td>\n",
       "      <td>emo</td>\n",
       "      <td>C#/Db</td>\n",
       "      <td>Minor</td>\n",
       "      <td>254773</td>\n",
       "      <td>125.024</td>\n",
       "      <td>-3.818</td>\n",
       "      <td>0.910</td>\n",
       "      <td>0.523</td>\n",
       "      <td>0.474</td>\n",
       "      <td>0.0538</td>\n",
       "      <td>0.0000</td>\n",
       "      <td>0.00309</td>\n",
       "      <td>0.320</td>\n",
       "    </tr>\n",
       "    <tr>\n",
       "      <th>1</th>\n",
       "      <td>no_profile</td>\n",
       "      <td>2BEIA5BtJqXKBRi366NDkO</td>\n",
       "      <td>Eddy and the Backfires</td>\n",
       "      <td>Hot Rods On Main</td>\n",
       "      <td>german</td>\n",
       "      <td>E</td>\n",
       "      <td>Major</td>\n",
       "      <td>137133</td>\n",
       "      <td>94.793</td>\n",
       "      <td>-4.612</td>\n",
       "      <td>0.983</td>\n",
       "      <td>0.584</td>\n",
       "      <td>0.606</td>\n",
       "      <td>0.0450</td>\n",
       "      <td>0.0359</td>\n",
       "      <td>0.75100</td>\n",
       "      <td>0.205</td>\n",
       "    </tr>\n",
       "    <tr>\n",
       "      <th>2</th>\n",
       "      <td>no_profile</td>\n",
       "      <td>7AA6dtKdnro1Sf0XygKOdK</td>\n",
       "      <td>David Myhr</td>\n",
       "      <td>Never Mine</td>\n",
       "      <td>pop</td>\n",
       "      <td>C#/Db</td>\n",
       "      <td>Major</td>\n",
       "      <td>235307</td>\n",
       "      <td>120.080</td>\n",
       "      <td>-5.246</td>\n",
       "      <td>0.602</td>\n",
       "      <td>0.472</td>\n",
       "      <td>0.586</td>\n",
       "      <td>0.0271</td>\n",
       "      <td>0.0000</td>\n",
       "      <td>0.08830</td>\n",
       "      <td>0.280</td>\n",
       "    </tr>\n",
       "  </tbody>\n",
       "</table>\n",
       "</div>"
      ],
      "text/plain": [
       "  sound_profile                track_id             artist_name  \\\n",
       "0    no_profile  76XIfZlNduQtecnblkuTcE       The Academy Is...   \n",
       "1    no_profile  2BEIA5BtJqXKBRi366NDkO  Eddy and the Backfires   \n",
       "2    no_profile  7AA6dtKdnro1Sf0XygKOdK              David Myhr   \n",
       "\n",
       "          track_name   genre    key   mode  duration_ms    tempo  loudness  \\\n",
       "0  Unexpected Places     emo  C#/Db  Minor       254773  125.024    -3.818   \n",
       "1   Hot Rods On Main  german      E  Major       137133   94.793    -4.612   \n",
       "2         Never Mine     pop  C#/Db  Major       235307  120.080    -5.246   \n",
       "\n",
       "   energy  valence  danceability  speechiness  instrumentalness  acousticness  \\\n",
       "0   0.910    0.523         0.474       0.0538            0.0000       0.00309   \n",
       "1   0.983    0.584         0.606       0.0450            0.0359       0.75100   \n",
       "2   0.602    0.472         0.586       0.0271            0.0000       0.08830   \n",
       "\n",
       "   liveness  \n",
       "0     0.320  \n",
       "1     0.205  \n",
       "2     0.280  "
      ]
     },
     "execution_count": 19,
     "metadata": {},
     "output_type": "execute_result"
    }
   ],
   "source": [
    "# Check expected columns\n",
    "df20.head(3)"
   ]
  },
  {
   "cell_type": "code",
   "execution_count": 20,
   "metadata": {},
   "outputs": [
    {
     "data": {
      "text/plain": [
       "(213219, 17)"
      ]
     },
     "execution_count": 20,
     "metadata": {},
     "output_type": "execute_result"
    }
   ],
   "source": [
    "# Check shape\n",
    "df20.shape"
   ]
  },
  {
   "cell_type": "markdown",
   "metadata": {},
   "source": [
    "#### Load sound profile variants."
   ]
  },
  {
   "cell_type": "code",
   "execution_count": 80,
   "metadata": {},
   "outputs": [],
   "source": [
    "# soundprofile - no pre-processing\n",
    "london_snd_df20 = pd.read_csv('../data/pre-processed/london_snd_df20.csv', index_col=0)\n",
    "manchester_snd_df20 = pd.read_csv('../data/pre-processed/manchester_snd_df20.csv', index_col=0)\n",
    "ibiza_snd_df20 = pd.read_csv('../data/pre-processed/ibiza_snd_df20.csv', index_col=0)\n",
    "berlin_snd_df20 = pd.read_csv('../data/pre-processed/berlin_snd_df20.csv', index_col=0)\n",
    "kingston_snd_df20 = pd.read_csv('../data/pre-processed/kingston_snd_df20.csv', index_col=0)\n",
    "nyc_snd_df20 = pd.read_csv('../data/pre-processed/nyc_snd_df20.csv', index_col=0)\n",
    "la_snd_df20 = pd.read_csv('../data/pre-processed/la_snd_df20.csv', index_col=0)\n",
    "combined_snd_df20 = pd.read_csv('../data/pre-processed/combined_snd_df20.csv', index_col=0)\n",
    "\n",
    "# soundprofile - track ids\n",
    "london_snd_trackid = pd.read_csv('../data/pre-processed/london_snd_trackid.csv', index_col=0)\n",
    "manchester_snd_trackid = pd.read_csv('../data/pre-processed/manchester_snd_trackid.csv', index_col=0)\n",
    "ibiza_snd_trackid = pd.read_csv('../data/pre-processed/ibiza_snd_trackid.csv', index_col=0)\n",
    "berlin_snd_trackid = pd.read_csv('../data/pre-processed/berlin_snd_trackid.csv', index_col=0)\n",
    "kingston_snd_trackid = pd.read_csv('../data/pre-processed/kingston_snd_trackid.csv', index_col=0)\n",
    "nyc_snd_trackid = pd.read_csv('../data/pre-processed/nyc_snd_trackid.csv', index_col=0)\n",
    "la_snd_trackid = pd.read_csv('../data/pre-processed/la_snd_trackid.csv', index_col=0)\n",
    "combined_snd_trackid = pd.read_csv('../data/pre-processed/combined_snd_trackid.csv', index_col=0)\n",
    "# soundprofile - track ids convert to list\n",
    "london_snd_trackid = list(london_snd_trackid['0'])\n",
    "manchester_snd_trackid = list(manchester_snd_trackid['0'])\n",
    "ibiza_snd_trackid = list(ibiza_snd_trackid['0'])\n",
    "kingston_snd_trackid = list(kingston_snd_trackid['0'])\n",
    "nyc_snd_trackid = list(nyc_snd_trackid['0'])\n",
    "la_snd_trackid = list(la_snd_trackid['0'])\n",
    "combined_snd_trackid = list(combined_snd_trackid['0'])\n",
    "\n",
    "# df20p - pre-processed\n",
    "london_snd_df20p_df = pd.read_csv('../data/pre-processed/london_snd_df20p_df.csv', index_col=0)\n",
    "manchester_snd_df20p_df = pd.read_csv('../data/pre-processed/manchester_snd_df20p_df.csv', index_col=0)\n",
    "ibiza_snd_df20p_df = pd.read_csv('../data/pre-processed/ibiza_snd_df20p_df.csv', index_col=0)\n",
    "berlin_snd_df20p_df = pd.read_csv('../data/pre-processed/berlin_snd_df20p_df.csv', index_col=0)\n",
    "kingston_snd_df20p_df = pd.read_csv('../data/pre-processed/kingston_snd_df20p_df.csv', index_col=0)\n",
    "nyc_snd_df20p_df = pd.read_csv('../data/pre-processed/nyc_snd_df20p_df.csv', index_col=0)\n",
    "la_snd_df20p_df = pd.read_csv('../data/pre-processed/la_snd_df20p_df.csv', index_col=0)\n",
    "combined_snd_df20p_df = pd.read_csv('../data/pre-processed/combined_snd_df20p_df.csv', index_col=0)\n",
    "\n",
    "# df20p - pre-processed labels only\n",
    "london_snd_df20p_df_labels = pd.read_csv('../data/pre-processed/london_snd_df20p_df_labels.csv', index_col=0)\n",
    "manchester_snd_df20p_df_labels = pd.read_csv('../data/pre-processed/manchester_snd_df20p_df_labels.csv', index_col=0)\n",
    "ibiza_snd_df20p_df_labels = pd.read_csv('../data/pre-processed/ibiza_snd_df20p_df_labels.csv', index_col=0)\n",
    "berlin_snd_df20p_df_labels = pd.read_csv('../data/pre-processed/berlin_snd_df20p_df_labels.csv', index_col=0)\n",
    "kingston_snd_df20p_df_labels = pd.read_csv('../data/pre-processed/kingston_snd_df20p_df_labels.csv', index_col=0)\n",
    "nyc_snd_df20p_df_labels = pd.read_csv('../data/pre-processed/nyc_snd_df20p_df_labels.csv', index_col=0)\n",
    "la_snd_df20p_df_labels = pd.read_csv('../data/pre-processed/la_snd_df20p_df_labels.csv', index_col=0)\n",
    "combined_snd_df20p_df_labels = pd.read_csv('../data/pre-processed/combined_snd_df20p_df_labels.csv', index_col=0)\n",
    "\n",
    "# df20p - pre-processed num only\n",
    "london_snd_df20p_df_num = pd.read_csv('../data/pre-processed/london_snd_df20p_df_num.csv', index_col=0)\n",
    "manchester_snd_df20p_df_num = pd.read_csv('../data/pre-processed/manchester_snd_df20p_df_num.csv', index_col=0)\n",
    "ibiza_snd_df20p_df_num = pd.read_csv('../data/pre-processed/ibiza_snd_df20p_df_num.csv', index_col=0)\n",
    "berlin_snd_df20p_df_num = pd.read_csv('../data/pre-processed/berlin_snd_df20p_df_num.csv', index_col=0)\n",
    "kingston_snd_df20p_df_num = pd.read_csv('../data/pre-processed/kingston_snd_df20p_df_num.csv', index_col=0)\n",
    "nyc_snd_df20p_df_num = pd.read_csv('../data/pre-processed/nyc_snd_df20p_df_num.csv', index_col=0)\n",
    "la_snd_df20p_df_num = pd.read_csv('../data/pre-processed/la_snd_df20p_df_num.csv', index_col=0)\n",
    "combined_snd_df20p_df_num = pd.read_csv('../data/pre-processed/combined_snd_df20p_df_num.csv', index_col=0)\n",
    "\n",
    "# df20p - pre-processed num scaled only\n",
    "london_snd_df20p_df_num_scl = pd.read_csv('../data/pre-processed/london_snd_df20p_df_num_scl.csv', index_col=0)\n",
    "manchester_snd_df20p_df_num_scl = pd.read_csv('../data/pre-processed/manchester_snd_df20p_df_num_scl.csv', index_col=0)\n",
    "ibiza_snd_df20p_df_num_scl = pd.read_csv('../data/pre-processed/ibiza_snd_df20p_df_num_scl.csv', index_col=0)\n",
    "berlin_snd_df20p_df_num_scl = pd.read_csv('../data/pre-processed/berlin_snd_df20p_df_num_scl.csv', index_col=0)\n",
    "kingston_snd_df20p_df_num_scl = pd.read_csv('../data/pre-processed/kingston_snd_df20p_df_num_scl.csv', index_col=0)\n",
    "nyc_snd_df20p_df_num_scl = pd.read_csv('../data/pre-processed/nyc_snd_df20p_df_num_scl.csv', index_col=0)\n",
    "la_snd_df20p_df_num_scl = pd.read_csv('../data/pre-processed/la_snd_df20p_df_num_scl.csv', index_col=0)\n",
    "combined_snd_df20p_df_num_scl = pd.read_csv('../data/pre-processed/combined_snd_df20p_df_num_scl.csv', index_col=0)\n",
    "\n"
   ]
  },
  {
   "cell_type": "code",
   "execution_count": 81,
   "metadata": {},
   "outputs": [
    {
     "name": "stdout",
     "output_type": "stream",
     "text": [
      "London: 58\n",
      "Manchester: 50\n",
      "Ibiza: 432\n",
      "Berlin: 199\n",
      "Kingston: 76\n",
      "NYC: 50\n",
      "LA: 65\n",
      "Combined: 930\n",
      "\n",
      "London: 58\n",
      "Manchester: 50\n",
      "Ibiza: 432\n",
      "Berlin: 199\n",
      "Kingston: 76\n",
      "NYC: 50\n",
      "LA: 65\n",
      "Combined: 930\n"
     ]
    }
   ],
   "source": [
    "# Check length\n",
    "print(f\"London: {len(london_snd_trackid)}\")\n",
    "print(f\"Manchester: {len(manchester_snd_trackid)}\")\n",
    "print(f\"Ibiza: {len(ibiza_snd_trackid)}\")\n",
    "print(f\"Berlin: {len(berlin_snd_trackid)}\")\n",
    "print(f\"Kingston: {len(kingston_snd_trackid)}\")\n",
    "print(f\"NYC: {len(nyc_snd_trackid)}\")\n",
    "print(f\"LA: {len(la_snd_trackid)}\")\n",
    "print(f\"Combined: {len(combined_snd_trackid)}\")\n",
    "print()\n",
    "# Check length\n",
    "print(f\"London: {len(london_snd_df20p_df_num_scl)}\")\n",
    "print(f\"Manchester: {len(manchester_snd_df20p_df_num_scl)}\")\n",
    "print(f\"Ibiza: {len(ibiza_snd_df20p_df_num_scl)}\")\n",
    "print(f\"Berlin: {len(berlin_snd_df20p_df_num_scl)}\")\n",
    "print(f\"Kingston: {len(kingston_snd_df20p_df_num_scl)}\")\n",
    "print(f\"NYC: {len(nyc_snd_df20p_df_num_scl)}\")\n",
    "print(f\"LA: {len(la_snd_df20p_df_num_scl)}\")\n",
    "print(f\"Combined: {len(combined_snd_df20p_df_num_scl)}\")\n"
   ]
  },
  {
   "cell_type": "code",
   "execution_count": 82,
   "metadata": {},
   "outputs": [
    {
     "data": {
      "text/html": [
       "<div>\n",
       "<style scoped>\n",
       "    .dataframe tbody tr th:only-of-type {\n",
       "        vertical-align: middle;\n",
       "    }\n",
       "\n",
       "    .dataframe tbody tr th {\n",
       "        vertical-align: top;\n",
       "    }\n",
       "\n",
       "    .dataframe thead th {\n",
       "        text-align: right;\n",
       "    }\n",
       "</style>\n",
       "<table border=\"1\" class=\"dataframe\">\n",
       "  <thead>\n",
       "    <tr style=\"text-align: right;\">\n",
       "      <th></th>\n",
       "      <th>sound_profile</th>\n",
       "      <th>track_id</th>\n",
       "      <th>artist_name</th>\n",
       "      <th>track_name</th>\n",
       "      <th>genre</th>\n",
       "      <th>key</th>\n",
       "      <th>mode</th>\n",
       "      <th>duration_ms</th>\n",
       "      <th>tempo</th>\n",
       "      <th>loudness</th>\n",
       "      <th>energy</th>\n",
       "      <th>valence</th>\n",
       "      <th>danceability</th>\n",
       "      <th>speechiness</th>\n",
       "      <th>instrumentalness</th>\n",
       "      <th>acousticness</th>\n",
       "      <th>liveness</th>\n",
       "    </tr>\n",
       "  </thead>\n",
       "  <tbody>\n",
       "    <tr>\n",
       "      <th>13795</th>\n",
       "      <td>london</td>\n",
       "      <td>577YdYQOjBpPNWDb5iDrQr</td>\n",
       "      <td>Sex Pistols</td>\n",
       "      <td>My Way - Remastered 2012</td>\n",
       "      <td>punk</td>\n",
       "      <td>E</td>\n",
       "      <td>Major</td>\n",
       "      <td>245427</td>\n",
       "      <td>174.766</td>\n",
       "      <td>-7.801</td>\n",
       "      <td>0.834</td>\n",
       "      <td>0.239</td>\n",
       "      <td>0.251</td>\n",
       "      <td>0.1020</td>\n",
       "      <td>0.641000</td>\n",
       "      <td>0.6010</td>\n",
       "      <td>0.380</td>\n",
       "    </tr>\n",
       "    <tr>\n",
       "      <th>32435</th>\n",
       "      <td>london</td>\n",
       "      <td>2dpE7B7usqDVM9By5hnHJW</td>\n",
       "      <td>Overmono</td>\n",
       "      <td>Calling Out</td>\n",
       "      <td>electronic</td>\n",
       "      <td>E</td>\n",
       "      <td>Minor</td>\n",
       "      <td>281371</td>\n",
       "      <td>136.995</td>\n",
       "      <td>-6.860</td>\n",
       "      <td>0.780</td>\n",
       "      <td>0.196</td>\n",
       "      <td>0.811</td>\n",
       "      <td>0.1490</td>\n",
       "      <td>0.198000</td>\n",
       "      <td>0.0348</td>\n",
       "      <td>0.106</td>\n",
       "    </tr>\n",
       "    <tr>\n",
       "      <th>33515</th>\n",
       "      <td>london</td>\n",
       "      <td>4IN5LOq2UhGrCk2cBRlsmR</td>\n",
       "      <td>Elton John</td>\n",
       "      <td>Are You Ready For Love? - Remastered</td>\n",
       "      <td>piano</td>\n",
       "      <td>D</td>\n",
       "      <td>Major</td>\n",
       "      <td>212440</td>\n",
       "      <td>116.511</td>\n",
       "      <td>-5.179</td>\n",
       "      <td>0.719</td>\n",
       "      <td>0.772</td>\n",
       "      <td>0.799</td>\n",
       "      <td>0.0320</td>\n",
       "      <td>0.001090</td>\n",
       "      <td>0.3080</td>\n",
       "      <td>0.118</td>\n",
       "    </tr>\n",
       "    <tr>\n",
       "      <th>33665</th>\n",
       "      <td>london</td>\n",
       "      <td>7o1s0OJBJj2PvBTVNBMM3P</td>\n",
       "      <td>Jamie xx</td>\n",
       "      <td>Girl</td>\n",
       "      <td>electronic</td>\n",
       "      <td>G#/Ab</td>\n",
       "      <td>Minor</td>\n",
       "      <td>241505</td>\n",
       "      <td>101.601</td>\n",
       "      <td>-11.595</td>\n",
       "      <td>0.602</td>\n",
       "      <td>0.451</td>\n",
       "      <td>0.359</td>\n",
       "      <td>0.3760</td>\n",
       "      <td>0.551000</td>\n",
       "      <td>0.1880</td>\n",
       "      <td>0.728</td>\n",
       "    </tr>\n",
       "    <tr>\n",
       "      <th>48760</th>\n",
       "      <td>london</td>\n",
       "      <td>5KbhvaeqKIB2bZcJMyfezl</td>\n",
       "      <td>Elton John</td>\n",
       "      <td>Hold Me Closer - Joel Corry Remix</td>\n",
       "      <td>piano</td>\n",
       "      <td>C</td>\n",
       "      <td>Major</td>\n",
       "      <td>248595</td>\n",
       "      <td>125.994</td>\n",
       "      <td>-5.439</td>\n",
       "      <td>0.887</td>\n",
       "      <td>0.117</td>\n",
       "      <td>0.642</td>\n",
       "      <td>0.0416</td>\n",
       "      <td>0.000058</td>\n",
       "      <td>0.0173</td>\n",
       "      <td>0.246</td>\n",
       "    </tr>\n",
       "  </tbody>\n",
       "</table>\n",
       "</div>"
      ],
      "text/plain": [
       "      sound_profile                track_id  artist_name  \\\n",
       "13795        london  577YdYQOjBpPNWDb5iDrQr  Sex Pistols   \n",
       "32435        london  2dpE7B7usqDVM9By5hnHJW     Overmono   \n",
       "33515        london  4IN5LOq2UhGrCk2cBRlsmR   Elton John   \n",
       "33665        london  7o1s0OJBJj2PvBTVNBMM3P     Jamie xx   \n",
       "48760        london  5KbhvaeqKIB2bZcJMyfezl   Elton John   \n",
       "\n",
       "                                 track_name       genre    key   mode  \\\n",
       "13795              My Way - Remastered 2012        punk      E  Major   \n",
       "32435                           Calling Out  electronic      E  Minor   \n",
       "33515  Are You Ready For Love? - Remastered       piano      D  Major   \n",
       "33665                                  Girl  electronic  G#/Ab  Minor   \n",
       "48760     Hold Me Closer - Joel Corry Remix       piano      C  Major   \n",
       "\n",
       "       duration_ms    tempo  loudness  energy  valence  danceability  \\\n",
       "13795       245427  174.766    -7.801   0.834    0.239         0.251   \n",
       "32435       281371  136.995    -6.860   0.780    0.196         0.811   \n",
       "33515       212440  116.511    -5.179   0.719    0.772         0.799   \n",
       "33665       241505  101.601   -11.595   0.602    0.451         0.359   \n",
       "48760       248595  125.994    -5.439   0.887    0.117         0.642   \n",
       "\n",
       "       speechiness  instrumentalness  acousticness  liveness  \n",
       "13795       0.1020          0.641000        0.6010     0.380  \n",
       "32435       0.1490          0.198000        0.0348     0.106  \n",
       "33515       0.0320          0.001090        0.3080     0.118  \n",
       "33665       0.3760          0.551000        0.1880     0.728  \n",
       "48760       0.0416          0.000058        0.0173     0.246  "
      ]
     },
     "execution_count": 82,
     "metadata": {},
     "output_type": "execute_result"
    }
   ],
   "source": [
    "# Check index and df - head\n",
    "df20[df20['track_id'].isin(london_snd_trackid)].head()"
   ]
  },
  {
   "cell_type": "code",
   "execution_count": 83,
   "metadata": {},
   "outputs": [
    {
     "data": {
      "text/plain": [
       "(58, 17)"
      ]
     },
     "execution_count": 83,
     "metadata": {},
     "output_type": "execute_result"
    }
   ],
   "source": [
    "# Check index and df - shape\n",
    "df20[df20['track_id'].isin(london_snd_trackid)].shape"
   ]
  },
  {
   "cell_type": "markdown",
   "metadata": {},
   "source": [
    "### IMPORT SUMMARY\n",
    "\n",
    "\t===== RAW\n",
    "\t- df20 (213219, 18)\n",
    "\t===== PRE-PROCESSED\n",
    "\t- df20p (213219, 90)\n",
    "\t- df20p_labels, df20p_num, df20p_num_scl\n",
    "\t=================== RAW\n",
    "\tlondon_snd_df20, manchester_snd_df20, ibiza_snd_df20, berlin_snd_df20, kingston_snd_df20, nyc_snd_df20, la_snd_df20, combined_snd_df20\n",
    "\t=================== TRACKIDS\n",
    "\t- london_snd_trackid, manchester_snd_trackid, ibiza_snd_trackid, berlin_snd_trackid, kingston_snd_trackid, nyc_snd_trackid, la_snd_trackid, combined_snd_trackid\n",
    "\t=================== PRE-PROCESSED\n",
    "\t- london_snd_df20p_df, manchester_snd_df20p_df, ibiza_snd_df20p_df, berlin_snd_df20p_df, kingston_snd_df20p_df, nyc_snd_df20p_df, la_snd_df20p_df, combined_snd_df20p_df\n",
    "\t=================== NUMCAT\n",
    "\tdf20p_labels, df20p_num\n",
    "\tlondon_snd_df20p_df_labels, london_snd_df20p_df_num\n",
    "\tmanchester_snd_df20p_df_labels, manchester_snd_df20p_df_num\n",
    "\tibiza_snd_df20p_df_labels, ibiza_snd_df20p_df_num\n",
    "\tberlin_snd_df20p_df_labels, berlin_snd_df20p_df_num\n",
    "\tkingston_snd_df20p_df_labels, kingston_snd_df20p_df_num\n",
    "\tnyc_snd_df20p_df_labels, nyc_snd_df20p_df_num\n",
    "\tla_snd_df20p_df_labels, la_snd_df20p_df_num\n",
    "\tcombined_snd_df20p_df_labels, combined_snd_df20p_df_num\n",
    "\t=================== NUM SCALED\n",
    "\tdf20p_num_scl\n",
    "\tlondon_snd_df20p_df_num_scl\n",
    "\tmanchester_snd_df20p_df_num_scl\n",
    "\tibiza_snd_df20p_df_num_scl\n",
    "\tberlin_snd_df20p_df_num_scl\n",
    "\tkingston_snd_df20p_df_num_scl\n",
    "\tnyc_snd_df20p_df_num_scl\n",
    "\tla_snd_df20p_df_num_scl\n",
    "\tcombined_snd_df20p_df_num_scl"
   ]
  },
  {
   "cell_type": "markdown",
   "metadata": {},
   "source": [
    "### 2. **???**"
   ]
  },
  {
   "cell_type": "markdown",
   "metadata": {},
   "source": [
    "#### Create Track archetypes - Raw, scaled."
   ]
  },
  {
   "cell_type": "code",
   "execution_count": null,
   "metadata": {},
   "outputs": [],
   "source": [
    "# Get raw nums\n",
    "london_snd_df20lab, london_snd_df20num = b3.df_numcat(london_snd_df20)\n",
    "manchester_snd_df20lab, manchester_snd_df20num = b3.df_numcat(manchester_snd_df20)\n",
    "ibiza_snd_df20lab, ibiza_snd_df20num = b3.df_numcat(ibiza_snd_df20)\n",
    "berlin_snd_df20lab, berlin_snd_df20num = b3.df_numcat(berlin_snd_df20)\n",
    "kingston_snd_df20lab, kingston_snd_df20num = b3.df_numcat(kingston_snd_df20)\n",
    "nyc_snd_df20lab, nyc_snd_df20num = b3.df_numcat(nyc_snd_df20)\n",
    "la_snd_df20lab, la_snd_df20num = b3.df_numcat(la_snd_df20)\n",
    "combined_snd_df20lab, combined_snd_df20num = b3.df_numcat(combined_snd_df20)"
   ]
  },
  {
   "cell_type": "code",
   "execution_count": 90,
   "metadata": {},
   "outputs": [],
   "source": [
    "# Create soundprofile df list\n",
    "sp_to_scl = [london_snd_df20num, manchester_snd_df20num, ibiza_snd_df20num, berlin_snd_df20num, kingston_snd_df20num, nyc_snd_df20num, la_snd_df20num, combined_snd_df20num]\n",
    "# Create name list\n",
    "sp_to_scl_string = ['london_snd_df20num_scl', 'manchester_snd_df20num_scl', 'ibiza_snd_df20num_scl', 'berlin_snd_df20num_scl', 'kingston_snd_df20num_scl', 'nyc_snd_df20num_scl', 'la_snd_df20num_scl', 'combined_snd_df20num_scl']\n",
    "\n",
    "# Scale raw nums sound profiles\n",
    "\n",
    "results ={}\n",
    "# 1. Import the scaler\n",
    "from sklearn.preprocessing import StandardScaler \n",
    "\n",
    "for i in range(len(sp_to_scl_string)):\n",
    "    # 2. make a scaler\n",
    "    scaler = StandardScaler()\n",
    "\n",
    "    # 3. fit the scaler\n",
    "    scaler.fit(sp_to_scl[i])\n",
    "\n",
    "    # 4. transform the data. note we get back a numpy array even if we put in a dataframe\n",
    "    results[sp_to_scl_string[i]] = scaler.transform(sp_to_scl[i])\n"
   ]
  },
  {
   "cell_type": "code",
   "execution_count": 91,
   "metadata": {},
   "outputs": [],
   "source": [
    "# Assign individual variables\n",
    "london_snd_df20num_scl = results[\"london_snd_df20num_scl\"]\n",
    "manchester_snd_df20num_scl = results[\"manchester_snd_df20num_scl\"]\n",
    "ibiza_snd_df20num_scl = results[\"ibiza_snd_df20num_scl\"]\n",
    "berlin_snd_df20num_scl = results[\"berlin_snd_df20num_scl\"]\n",
    "kingston_snd_df20num_scl = results[\"kingston_snd_df20num_scl\"]\n",
    "nyc_snd_df20num_scl = results[\"nyc_snd_df20num_scl\"]\n",
    "la_snd_df20num_scl = results[\"la_snd_df20num_scl\"]\n",
    "combined_snd_df20num_scl = results[\"combined_snd_df20num_scl\"]\n",
    "\n",
    "# Add back column titles\n",
    "london_snd_df20num_scl = pd.DataFrame(columns=london_snd_df20num.columns, data=london_snd_df20num_scl)\n",
    "manchester_snd_df20num_scl = pd.DataFrame(columns=manchester_snd_df20num.columns, data=manchester_snd_df20num_scl)\n",
    "ibiza_snd_df20num_scl = pd.DataFrame(columns=ibiza_snd_df20num.columns, data=ibiza_snd_df20num_scl)\n",
    "berlin_snd_df20num_scl = pd.DataFrame(columns=berlin_snd_df20num.columns, data=berlin_snd_df20num_scl)\n",
    "kingston_snd_df20num_scl = pd.DataFrame(columns=kingston_snd_df20num.columns, data=kingston_snd_df20num_scl)\n",
    "nyc_snd_df20num_scl = pd.DataFrame(columns=nyc_snd_df20num.columns, data=nyc_snd_df20num_scl)\n",
    "la_snd_df20num_scl = pd.DataFrame(columns=la_snd_df20num.columns, data=la_snd_df20num_scl)\n",
    "combined_snd_df20num_scl = pd.DataFrame(columns=combined_snd_df20num.columns, data=combined_snd_df20num_scl)"
   ]
  },
  {
   "cell_type": "code",
   "execution_count": 92,
   "metadata": {},
   "outputs": [],
   "source": [
    "# Calculate archetypes\n",
    "london_arch_raw = london_snd_df20num_scl.mean()\n",
    "manchester_arch_raw = manchester_snd_df20num_scl.mean()\n",
    "ibiza_arch_raw = ibiza_snd_df20num_scl.mean()\n",
    "berlin_arch_raw = berlin_snd_df20num_scl.mean()\n",
    "kingston_arch_raw = kingston_snd_df20num_scl.mean()\n",
    "nyc_arch_raw = nyc_snd_df20num_scl.mean()\n",
    "la_arch_raw = la_snd_df20num_scl.mean()\n",
    "combined_arch_raw = combined_snd_df20num_scl.mean()"
   ]
  },
  {
   "cell_type": "code",
   "execution_count": 100,
   "metadata": {},
   "outputs": [
    {
     "data": {
      "text/html": [
       "<div>                            <div id=\"516578d9-d520-4803-8359-eb15e16475d9\" class=\"plotly-graph-div\" style=\"height:525px; width:100%;\"></div>            <script type=\"text/javascript\">                require([\"plotly\"], function(Plotly) {                    window.PLOTLYENV=window.PLOTLYENV || {};                                    if (document.getElementById(\"516578d9-d520-4803-8359-eb15e16475d9\")) {                    Plotly.newPlot(                        \"516578d9-d520-4803-8359-eb15e16475d9\",                        [{\"line\": {\"color\": \"blue\"}, \"mode\": \"lines\", \"name\": \"London\", \"type\": \"scatter\", \"x\": [\"duration_ms\", \"tempo\", \"loudness\", \"energy\", \"valence\", \"danceability\", \"speechiness\", \"instrumentalness\", \"acousticness\", \"liveness\"], \"y\": [-6.891039463190627e-17, -3.323490907767979e-16, 2.0481700626705474e-16, -1.2633572349182816e-16, -5.16827959739297e-17, 6.182793740584923e-16, 1.9907447338106256e-16, -5.933950648858595e-17, 1.0527976957652347e-16, 6.69962170032422e-17]}, {\"line\": {\"color\": \"red\"}, \"mode\": \"lines\", \"name\": \"Manchester\", \"type\": \"scatter\", \"x\": [\"duration_ms\", \"tempo\", \"loudness\", \"energy\", \"valence\", \"danceability\", \"speechiness\", \"instrumentalness\", \"acousticness\", \"liveness\"], \"y\": [3.164135620181696e-16, 0.0, 1.2434497875801754e-16, -2.1316282072803005e-16, -3.1974423109204507e-16, 6.306066779870889e-16, 6.439293542825907e-17, 4.884981308350689e-17, -1.3322676295501878e-17, 1.709743457922741e-16]}, {\"line\": {\"color\": \"orange\"}, \"mode\": \"lines\", \"name\": \"Ibiza\", \"type\": \"scatter\", \"x\": [\"duration_ms\", \"tempo\", \"loudness\", \"energy\", \"valence\", \"danceability\", \"speechiness\", \"instrumentalness\", \"acousticness\", \"liveness\"], \"y\": [6.579099405186112e-17, 2.4671622769447922e-17, 1.1513423959075697e-16, 2.3438041630975528e-16, -4.6876083261951055e-16, 8.22387425648264e-17, 2.4671622769447922e-17, 3.289549702593056e-17, 8.840664825718839e-17, 8.22387425648264e-17]}, {\"line\": {\"color\": \"black\"}, \"mode\": \"lines\", \"name\": \"Berlin\", \"type\": \"scatter\", \"x\": [\"duration_ms\", \"tempo\", \"loudness\", \"energy\", \"valence\", \"danceability\", \"speechiness\", \"instrumentalness\", \"acousticness\", \"liveness\"], \"y\": [2.499396557950101e-16, 4.463208139196609e-16, 7.141133022714575e-16, -1.6067549301107794e-16, 6.694812208794913e-17, 1.9638115812465082e-16, 1.9638115812465082e-16, 4.1954156508448126e-16, 0.0, -9.819057906232541e-17]}, {\"line\": {\"color\": \"green\"}, \"mode\": \"lines\", \"name\": \"Kingston\", \"type\": \"scatter\", \"x\": [\"duration_ms\", \"tempo\", \"loudness\", \"energy\", \"valence\", \"danceability\", \"speechiness\", \"instrumentalness\", \"acousticness\", \"liveness\"], \"y\": [-3.652049423109067e-18, 1.081006629240284e-16, -2.556434596176347e-18, -2.731732968485583e-16, -1.460819769243627e-17, 9.115515360080233e-16, -3.652049423109068e-17, 5.258951169277057e-17, -1.7219413029959252e-16, -1.1102230246251565e-16]}, {\"line\": {\"color\": \"grey\"}, \"mode\": \"lines\", \"name\": \"NYC\", \"type\": \"scatter\", \"x\": [\"duration_ms\", \"tempo\", \"loudness\", \"energy\", \"valence\", \"danceability\", \"speechiness\", \"instrumentalness\", \"acousticness\", \"liveness\"], \"y\": [2.3092638912203257e-16, 5.950795411990839e-16, -2.3092638912203257e-16, 1.1324274851176597e-16, 9.992007221626409e-17, 1.3322676295501878e-16, -4.9404924595819467e-17, -1.5543122344752193e-17, 1.4210854715202004e-16, 1.464106613724425e-17]}, {\"line\": {\"color\": \"purple\"}, \"mode\": \"lines\", \"name\": \"LA\", \"type\": \"scatter\", \"x\": [\"duration_ms\", \"tempo\", \"loudness\", \"energy\", \"valence\", \"danceability\", \"speechiness\", \"instrumentalness\", \"acousticness\", \"liveness\"], \"y\": [1.8318679906315082e-16, -6.490534605500916e-17, -3.416070845000482e-17, 1.9471603816502745e-16, 2.818258447125397e-16, 5.124106267500723e-18, 7.344552316751035e-17, 1.8895141861408915e-17, 7.51535585900106e-17, -9.564998366001349e-17]}],                        {\"template\": {\"data\": {\"bar\": [{\"error_x\": {\"color\": \"#2a3f5f\"}, \"error_y\": {\"color\": \"#2a3f5f\"}, \"marker\": {\"line\": {\"color\": \"#E5ECF6\", \"width\": 0.5}}, \"type\": \"bar\"}], \"barpolar\": [{\"marker\": {\"line\": {\"color\": \"#E5ECF6\", \"width\": 0.5}}, \"type\": \"barpolar\"}], \"carpet\": [{\"aaxis\": {\"endlinecolor\": \"#2a3f5f\", \"gridcolor\": \"white\", \"linecolor\": \"white\", \"minorgridcolor\": \"white\", \"startlinecolor\": \"#2a3f5f\"}, \"baxis\": {\"endlinecolor\": \"#2a3f5f\", \"gridcolor\": \"white\", \"linecolor\": \"white\", \"minorgridcolor\": \"white\", \"startlinecolor\": \"#2a3f5f\"}, \"type\": \"carpet\"}], \"choropleth\": [{\"colorbar\": {\"outlinewidth\": 0, \"ticks\": \"\"}, \"type\": \"choropleth\"}], \"contour\": [{\"colorbar\": {\"outlinewidth\": 0, \"ticks\": \"\"}, \"colorscale\": [[0.0, \"#0d0887\"], [0.1111111111111111, \"#46039f\"], [0.2222222222222222, \"#7201a8\"], [0.3333333333333333, \"#9c179e\"], [0.4444444444444444, \"#bd3786\"], [0.5555555555555556, \"#d8576b\"], [0.6666666666666666, \"#ed7953\"], [0.7777777777777778, \"#fb9f3a\"], [0.8888888888888888, \"#fdca26\"], [1.0, \"#f0f921\"]], \"type\": \"contour\"}], \"contourcarpet\": [{\"colorbar\": {\"outlinewidth\": 0, \"ticks\": \"\"}, \"type\": \"contourcarpet\"}], \"heatmap\": [{\"colorbar\": {\"outlinewidth\": 0, \"ticks\": \"\"}, \"colorscale\": [[0.0, \"#0d0887\"], [0.1111111111111111, \"#46039f\"], [0.2222222222222222, \"#7201a8\"], [0.3333333333333333, \"#9c179e\"], [0.4444444444444444, \"#bd3786\"], [0.5555555555555556, \"#d8576b\"], [0.6666666666666666, \"#ed7953\"], [0.7777777777777778, \"#fb9f3a\"], [0.8888888888888888, \"#fdca26\"], [1.0, \"#f0f921\"]], \"type\": \"heatmap\"}], \"heatmapgl\": [{\"colorbar\": {\"outlinewidth\": 0, \"ticks\": \"\"}, \"colorscale\": [[0.0, \"#0d0887\"], [0.1111111111111111, \"#46039f\"], [0.2222222222222222, \"#7201a8\"], [0.3333333333333333, \"#9c179e\"], [0.4444444444444444, \"#bd3786\"], [0.5555555555555556, \"#d8576b\"], [0.6666666666666666, \"#ed7953\"], [0.7777777777777778, \"#fb9f3a\"], [0.8888888888888888, \"#fdca26\"], [1.0, \"#f0f921\"]], \"type\": \"heatmapgl\"}], \"histogram\": [{\"marker\": {\"colorbar\": {\"outlinewidth\": 0, \"ticks\": \"\"}}, \"type\": \"histogram\"}], \"histogram2d\": [{\"colorbar\": {\"outlinewidth\": 0, \"ticks\": \"\"}, \"colorscale\": [[0.0, \"#0d0887\"], [0.1111111111111111, \"#46039f\"], [0.2222222222222222, \"#7201a8\"], [0.3333333333333333, \"#9c179e\"], [0.4444444444444444, \"#bd3786\"], [0.5555555555555556, \"#d8576b\"], [0.6666666666666666, \"#ed7953\"], [0.7777777777777778, \"#fb9f3a\"], [0.8888888888888888, \"#fdca26\"], [1.0, \"#f0f921\"]], \"type\": \"histogram2d\"}], \"histogram2dcontour\": [{\"colorbar\": {\"outlinewidth\": 0, \"ticks\": \"\"}, \"colorscale\": [[0.0, \"#0d0887\"], [0.1111111111111111, \"#46039f\"], [0.2222222222222222, \"#7201a8\"], [0.3333333333333333, \"#9c179e\"], [0.4444444444444444, \"#bd3786\"], [0.5555555555555556, \"#d8576b\"], [0.6666666666666666, \"#ed7953\"], [0.7777777777777778, \"#fb9f3a\"], [0.8888888888888888, \"#fdca26\"], [1.0, \"#f0f921\"]], \"type\": \"histogram2dcontour\"}], \"mesh3d\": [{\"colorbar\": {\"outlinewidth\": 0, \"ticks\": \"\"}, \"type\": \"mesh3d\"}], \"parcoords\": [{\"line\": {\"colorbar\": {\"outlinewidth\": 0, \"ticks\": \"\"}}, \"type\": \"parcoords\"}], \"pie\": [{\"automargin\": true, \"type\": \"pie\"}], \"scatter\": [{\"marker\": {\"colorbar\": {\"outlinewidth\": 0, \"ticks\": \"\"}}, \"type\": \"scatter\"}], \"scatter3d\": [{\"line\": {\"colorbar\": {\"outlinewidth\": 0, \"ticks\": \"\"}}, \"marker\": {\"colorbar\": {\"outlinewidth\": 0, \"ticks\": \"\"}}, \"type\": \"scatter3d\"}], \"scattercarpet\": [{\"marker\": {\"colorbar\": {\"outlinewidth\": 0, \"ticks\": \"\"}}, \"type\": \"scattercarpet\"}], \"scattergeo\": [{\"marker\": {\"colorbar\": {\"outlinewidth\": 0, \"ticks\": \"\"}}, \"type\": \"scattergeo\"}], \"scattergl\": [{\"marker\": {\"colorbar\": {\"outlinewidth\": 0, \"ticks\": \"\"}}, \"type\": \"scattergl\"}], \"scattermapbox\": [{\"marker\": {\"colorbar\": {\"outlinewidth\": 0, \"ticks\": \"\"}}, \"type\": \"scattermapbox\"}], \"scatterpolar\": [{\"marker\": {\"colorbar\": {\"outlinewidth\": 0, \"ticks\": \"\"}}, \"type\": \"scatterpolar\"}], \"scatterpolargl\": [{\"marker\": {\"colorbar\": {\"outlinewidth\": 0, \"ticks\": \"\"}}, \"type\": \"scatterpolargl\"}], \"scatterternary\": [{\"marker\": {\"colorbar\": {\"outlinewidth\": 0, \"ticks\": \"\"}}, \"type\": \"scatterternary\"}], \"surface\": [{\"colorbar\": {\"outlinewidth\": 0, \"ticks\": \"\"}, \"colorscale\": [[0.0, \"#0d0887\"], [0.1111111111111111, \"#46039f\"], [0.2222222222222222, \"#7201a8\"], [0.3333333333333333, \"#9c179e\"], [0.4444444444444444, \"#bd3786\"], [0.5555555555555556, \"#d8576b\"], [0.6666666666666666, \"#ed7953\"], [0.7777777777777778, \"#fb9f3a\"], [0.8888888888888888, \"#fdca26\"], [1.0, \"#f0f921\"]], \"type\": \"surface\"}], \"table\": [{\"cells\": {\"fill\": {\"color\": \"#EBF0F8\"}, \"line\": {\"color\": \"white\"}}, \"header\": {\"fill\": {\"color\": \"#C8D4E3\"}, \"line\": {\"color\": \"white\"}}, \"type\": \"table\"}]}, \"layout\": {\"annotationdefaults\": {\"arrowcolor\": \"#2a3f5f\", \"arrowhead\": 0, \"arrowwidth\": 1}, \"coloraxis\": {\"colorbar\": {\"outlinewidth\": 0, \"ticks\": \"\"}}, \"colorscale\": {\"diverging\": [[0, \"#8e0152\"], [0.1, \"#c51b7d\"], [0.2, \"#de77ae\"], [0.3, \"#f1b6da\"], [0.4, \"#fde0ef\"], [0.5, \"#f7f7f7\"], [0.6, \"#e6f5d0\"], [0.7, \"#b8e186\"], [0.8, \"#7fbc41\"], [0.9, \"#4d9221\"], [1, \"#276419\"]], \"sequential\": [[0.0, \"#0d0887\"], [0.1111111111111111, \"#46039f\"], [0.2222222222222222, \"#7201a8\"], [0.3333333333333333, \"#9c179e\"], [0.4444444444444444, \"#bd3786\"], [0.5555555555555556, \"#d8576b\"], [0.6666666666666666, \"#ed7953\"], [0.7777777777777778, \"#fb9f3a\"], [0.8888888888888888, \"#fdca26\"], [1.0, \"#f0f921\"]], \"sequentialminus\": [[0.0, \"#0d0887\"], [0.1111111111111111, \"#46039f\"], [0.2222222222222222, \"#7201a8\"], [0.3333333333333333, \"#9c179e\"], [0.4444444444444444, \"#bd3786\"], [0.5555555555555556, \"#d8576b\"], [0.6666666666666666, \"#ed7953\"], [0.7777777777777778, \"#fb9f3a\"], [0.8888888888888888, \"#fdca26\"], [1.0, \"#f0f921\"]]}, \"colorway\": [\"#636efa\", \"#EF553B\", \"#00cc96\", \"#ab63fa\", \"#FFA15A\", \"#19d3f3\", \"#FF6692\", \"#B6E880\", \"#FF97FF\", \"#FECB52\"], \"font\": {\"color\": \"#2a3f5f\"}, \"geo\": {\"bgcolor\": \"white\", \"lakecolor\": \"white\", \"landcolor\": \"#E5ECF6\", \"showlakes\": true, \"showland\": true, \"subunitcolor\": \"white\"}, \"hoverlabel\": {\"align\": \"left\"}, \"hovermode\": \"closest\", \"mapbox\": {\"style\": \"light\"}, \"paper_bgcolor\": \"white\", \"plot_bgcolor\": \"#E5ECF6\", \"polar\": {\"angularaxis\": {\"gridcolor\": \"white\", \"linecolor\": \"white\", \"ticks\": \"\"}, \"bgcolor\": \"#E5ECF6\", \"radialaxis\": {\"gridcolor\": \"white\", \"linecolor\": \"white\", \"ticks\": \"\"}}, \"scene\": {\"xaxis\": {\"backgroundcolor\": \"#E5ECF6\", \"gridcolor\": \"white\", \"gridwidth\": 2, \"linecolor\": \"white\", \"showbackground\": true, \"ticks\": \"\", \"zerolinecolor\": \"white\"}, \"yaxis\": {\"backgroundcolor\": \"#E5ECF6\", \"gridcolor\": \"white\", \"gridwidth\": 2, \"linecolor\": \"white\", \"showbackground\": true, \"ticks\": \"\", \"zerolinecolor\": \"white\"}, \"zaxis\": {\"backgroundcolor\": \"#E5ECF6\", \"gridcolor\": \"white\", \"gridwidth\": 2, \"linecolor\": \"white\", \"showbackground\": true, \"ticks\": \"\", \"zerolinecolor\": \"white\"}}, \"shapedefaults\": {\"line\": {\"color\": \"#2a3f5f\"}}, \"ternary\": {\"aaxis\": {\"gridcolor\": \"white\", \"linecolor\": \"white\", \"ticks\": \"\"}, \"baxis\": {\"gridcolor\": \"white\", \"linecolor\": \"white\", \"ticks\": \"\"}, \"bgcolor\": \"#E5ECF6\", \"caxis\": {\"gridcolor\": \"white\", \"linecolor\": \"white\", \"ticks\": \"\"}}, \"title\": {\"x\": 0.05}, \"xaxis\": {\"automargin\": true, \"gridcolor\": \"white\", \"linecolor\": \"white\", \"ticks\": \"\", \"title\": {\"standoff\": 15}, \"zerolinecolor\": \"white\", \"zerolinewidth\": 2}, \"yaxis\": {\"automargin\": true, \"gridcolor\": \"white\", \"linecolor\": \"white\", \"ticks\": \"\", \"title\": {\"standoff\": 15}, \"zerolinecolor\": \"white\", \"zerolinewidth\": 2}}}, \"title\": {\"text\": \"Track Archetypes\"}, \"xaxis\": {\"title\": {\"text\": \"Attributes\"}}, \"yaxis\": {\"title\": {\"text\": \"Scaled score\"}}},                        {\"responsive\": true}                    ).then(function(){\n",
       "                            \n",
       "var gd = document.getElementById('516578d9-d520-4803-8359-eb15e16475d9');\n",
       "var x = new MutationObserver(function (mutations, observer) {{\n",
       "        var display = window.getComputedStyle(gd).display;\n",
       "        if (!display || display === 'none') {{\n",
       "            console.log([gd, 'removed!']);\n",
       "            Plotly.purge(gd);\n",
       "            observer.disconnect();\n",
       "        }}\n",
       "}});\n",
       "\n",
       "// Listen for the removal of the full notebook cells\n",
       "var notebookContainer = gd.closest('#notebook-container');\n",
       "if (notebookContainer) {{\n",
       "    x.observe(notebookContainer, {childList: true});\n",
       "}}\n",
       "\n",
       "// Listen for the clearing of the current output cell\n",
       "var outputEl = gd.closest('.output');\n",
       "if (outputEl) {{\n",
       "    x.observe(outputEl, {childList: true});\n",
       "}}\n",
       "\n",
       "                        })                };                });            </script>        </div>"
      ]
     },
     "metadata": {},
     "output_type": "display_data"
    }
   ],
   "source": [
    "import plotly.graph_objects as go\n",
    "\n",
    "# Get the index values as x-axis values\n",
    "x = london_arch_raw.index.tolist()\n",
    "\n",
    "# Create traces for each dataset\n",
    "trace_london = go.Scatter(x=x, y=london_arch_raw.values, mode='lines', name='London', line=dict(color='blue'))\n",
    "trace_manchester = go.Scatter(x=x, y=manchester_arch_raw.values, mode='lines', name='Manchester', line=dict(color='red'))\n",
    "trace_ibiza = go.Scatter(x=x, y=ibiza_arch_raw.values, mode='lines', name='Ibiza', line=dict(color='orange'))\n",
    "trace_berlin = go.Scatter(x=x, y=berlin_arch_raw.values, mode='lines', name='Berlin', line=dict(color='black'))\n",
    "trace_kingston = go.Scatter(x=x, y=kingston_arch_raw.values, mode='lines', name='Kingston', line=dict(color='green'))\n",
    "trace_nyc = go.Scatter(x=x, y=nyc_arch_raw.values, mode='lines', name='NYC', line=dict(color='grey'))\n",
    "trace_la = go.Scatter(x=x, y=la_arch_raw.values, mode='lines', name='LA', line=dict(color='purple'))\n",
    "\n",
    "# Create figure and add traces\n",
    "fig = go.Figure()\n",
    "fig.add_trace(trace_london)\n",
    "fig.add_trace(trace_manchester)\n",
    "fig.add_trace(trace_ibiza)\n",
    "fig.add_trace(trace_berlin)\n",
    "fig.add_trace(trace_kingston)\n",
    "fig.add_trace(trace_nyc)\n",
    "fig.add_trace(trace_la)\n",
    "\n",
    "# Update layout\n",
    "fig.update_layout(\n",
    "    title='Track Archetypes',\n",
    "    xaxis_title='Attributes',\n",
    "    yaxis_title='Scaled score'\n",
    ")\n",
    "\n",
    "# Show the plot\n",
    "fig.show()\n"
   ]
  },
  {
   "cell_type": "markdown",
   "metadata": {},
   "source": [
    "#### Create Track archetypes - Pre-processed, scaled."
   ]
  },
  {
   "cell_type": "code",
   "execution_count": 114,
   "metadata": {},
   "outputs": [],
   "source": [
    "# Calculate archetypes\n",
    "london_arch_scl = london_snd_df20p_df_num_scl.mean()\n",
    "manchester_arch_scl = manchester_snd_df20p_df_num_scl.mean()\n",
    "ibiza_arch_scl = ibiza_snd_df20p_df_num_scl.mean()\n",
    "berlin_arch_scl = berlin_snd_df20p_df_num_scl.mean()\n",
    "kingston_arch_scl = kingston_snd_df20p_df_num_scl.mean()\n",
    "nyc_arch_scl = nyc_snd_df20p_df_num_scl.mean()\n",
    "la_arch_scl = la_snd_df20p_df_num_scl.mean()\n",
    "combined_arch_scl = combined_snd_df20p_df_num_scl.mean()"
   ]
  },
  {
   "cell_type": "code",
   "execution_count": 115,
   "metadata": {},
   "outputs": [
    {
     "data": {
      "text/html": [
       "<div>                            <div id=\"77403b1a-e013-4bf0-8294-c2aea72263f0\" class=\"plotly-graph-div\" style=\"height:525px; width:100%;\"></div>            <script type=\"text/javascript\">                require([\"plotly\"], function(Plotly) {                    window.PLOTLYENV=window.PLOTLYENV || {};                                    if (document.getElementById(\"77403b1a-e013-4bf0-8294-c2aea72263f0\")) {                    Plotly.newPlot(                        \"77403b1a-e013-4bf0-8294-c2aea72263f0\",                        [{\"line\": {\"color\": \"blue\"}, \"mode\": \"lines\", \"name\": \"London\", \"type\": \"scatter\", \"x\": [\"duration_ms\", \"tempo\", \"loudness\", \"energy\", \"valence\", \"danceability\", \"speechiness\", \"instrumentalness\", \"acousticness\", \"liveness\", \"mode_maj\", \"ky_A\", \"ky_A#/Bb\", \"ky_B\", \"ky_C\", \"ky_C#/Db\", \"ky_D\", \"ky_D#/Eb\", \"ky_E\", \"ky_F\", \"ky_F#/Gb\", \"ky_G\", \"ky_G#/Ab\", \"g_acoustic\", \"g_afrobeat\", \"g_alt-rock\", \"g_ambient\", \"g_black-metal\", \"g_blues\", \"g_breakbeat\", \"g_cantopop\", \"g_classical\", \"g_country\", \"g_dance\", \"g_dancehall\", \"g_deep-house\", \"g_disco\", \"g_downtempo\", \"g_drum-and-bass\", \"g_dub\", \"g_dubstep\", \"g_edm\", \"g_electro\", \"g_electronic\", \"g_emo\", \"g_folk\", \"g_forro\", \"g_french\", \"g_funk&soul\", \"g_garage\", \"g_german\", \"g_gospel\", \"g_goth\", \"g_guitar\", \"g_hardcore\", \"g_hip-hop\", \"g_house\", \"g_indian\", \"g_indie\", \"g_industrial\", \"g_jazz\", \"g_k-pop\", \"g_metal\", \"g_minimal-techno\", \"g_new-age\", \"g_other\", \"g_party\", \"g_piano\", \"g_pop\", \"g_progressive-house\", \"g_punk\", \"g_reggae&ska\", \"g_rock\", \"g_salsa\", \"g_samba\", \"g_sertanejo\", \"g_singer-songwriter\", \"g_spanish\", \"g_swedish\", \"g_tango\", \"g_tech-house\", \"g_techno\", \"g_trance\", \"g_trip-hop\"], \"y\": [-9.188052617587502e-17, -3.64172293853338e-16, -4.058056572767814e-16, -1.339924340064844e-16, 3.8666388099014073e-16, 6.642196371464298e-16, 1.8471814116608207e-16, -7.465292751789846e-17, 1.2059319060583598e-16, 1.0527976957652347e-16, -1.607909208077813e-16, -7.656710514656252e-18, -5.74253288599219e-17, 2.2970131543968756e-17, 4.976861834526564e-17, 4.594026308793751e-17, -2.871266442996095e-17, 1.129364800911797e-16, -2.6798486801296883e-17, -7.656710514656252e-18, 1.0719394720518753e-16, -3.828355257328126e-17, 1.3590661163514846e-16, 0.0, 0.0, -4.2111907830609384e-17, 0.0, 0.0, 0.0, 0.0, 0.0, 0.0, 0.0, 9.762305906186721e-17, 0.0, 0.0, 0.0, 0.0, 0.0, 9.762305906186721e-17, 0.0, 0.0, 2.2970131543968756e-17, 4.594026308793751e-17, 0.0, 0.0, 0.0, 0.0, -3.828355257328126e-17, 0.0, 0.0, 0.0, 0.0, 0.0, 0.0, 0.0, -3.062684205862501e-17, 0.0, 0.0, 0.0, 0.0, 0.0, 0.0, 0.0, 0.0, 0.0, 0.0, 2.2970131543968756e-17, 0.0, 0.0, 4.976861834526564e-17, 0.0, 3.254101968728907e-17, 0.0, 0.0, 0.0, 0.0, 0.0, 0.0, 0.0, 0.0, 0.0, 0.0, 0.0]}, {\"line\": {\"color\": \"red\"}, \"mode\": \"lines\", \"name\": \"Manchester\", \"type\": \"scatter\", \"x\": [\"duration_ms\", \"tempo\", \"loudness\", \"energy\", \"valence\", \"danceability\", \"speechiness\", \"instrumentalness\", \"acousticness\", \"liveness\", \"mode_maj\", \"ky_A\", \"ky_A#/Bb\", \"ky_B\", \"ky_C\", \"ky_C#/Db\", \"ky_D\", \"ky_D#/Eb\", \"ky_E\", \"ky_F\", \"ky_F#/Gb\", \"ky_G\", \"ky_G#/Ab\", \"g_acoustic\", \"g_afrobeat\", \"g_alt-rock\", \"g_ambient\", \"g_black-metal\", \"g_blues\", \"g_breakbeat\", \"g_cantopop\", \"g_classical\", \"g_country\", \"g_dance\", \"g_dancehall\", \"g_deep-house\", \"g_disco\", \"g_downtempo\", \"g_drum-and-bass\", \"g_dub\", \"g_dubstep\", \"g_edm\", \"g_electro\", \"g_electronic\", \"g_emo\", \"g_folk\", \"g_forro\", \"g_french\", \"g_funk&soul\", \"g_garage\", \"g_german\", \"g_gospel\", \"g_goth\", \"g_guitar\", \"g_hardcore\", \"g_hip-hop\", \"g_house\", \"g_indian\", \"g_indie\", \"g_industrial\", \"g_jazz\", \"g_k-pop\", \"g_metal\", \"g_minimal-techno\", \"g_new-age\", \"g_other\", \"g_party\", \"g_piano\", \"g_pop\", \"g_progressive-house\", \"g_punk\", \"g_reggae&ska\", \"g_rock\", \"g_salsa\", \"g_samba\", \"g_sertanejo\", \"g_singer-songwriter\", \"g_spanish\", \"g_swedish\", \"g_tango\", \"g_tech-house\", \"g_techno\", \"g_trance\", \"g_trip-hop\"], \"y\": [2.9254376698872872e-16, -2.6645352591003756e-17, 8.881784197001253e-17, -8.704148513061227e-16, -3.064215547965432e-16, -3.1086244689504386e-17, 8.104628079763643e-17, -7.549516567451065e-17, 0.0, 1.7541523789077474e-16, -4.440892098500626e-18, 0.0, 2.4424906541753444e-17, 3.3306690738754695e-17, -6.217248937900877e-17, 2.886579864025407e-17, 2.4424906541753444e-17, 0.0, -1.1102230246251566e-17, 4.218847493575595e-17, 3.441691376337985e-17, 8.881784197001253e-18, 2.4424906541753444e-17, 0.0, 0.0, 5.551115123125783e-17, 0.0, 0.0, 0.0, 0.0, 0.0, 0.0, 0.0, 5.10702591327572e-17, 0.0, 0.0, 0.0, 1.0658141036401502e-16, 0.0, 0.0, 0.0, 0.0, 0.0, 4.218847493575595e-17, 0.0, 0.0, 0.0, 0.0, 1.0658141036401502e-16, 0.0, 0.0, 0.0, 0.0, 0.0, 0.0, 7.105427357601002e-17, 5.551115123125783e-17, 0.0, 0.0, 0.0, 0.0, 0.0, 0.0, 0.0, 0.0, 1.0658141036401502e-16, 0.0, 0.0, 2.4424906541753444e-17, 0.0, 7.105427357601002e-17, 0.0, 2.6645352591003756e-17, 0.0, 0.0, 0.0, 0.0, 0.0, 0.0, 0.0, 0.0, 0.0, 0.0, 0.0]}, {\"line\": {\"color\": \"orange\"}, \"mode\": \"lines\", \"name\": \"Ibiza\", \"type\": \"scatter\", \"x\": [\"duration_ms\", \"tempo\", \"loudness\", \"energy\", \"valence\", \"danceability\", \"speechiness\", \"instrumentalness\", \"acousticness\", \"liveness\", \"mode_maj\", \"ky_A\", \"ky_A#/Bb\", \"ky_B\", \"ky_C\", \"ky_C#/Db\", \"ky_D\", \"ky_D#/Eb\", \"ky_E\", \"ky_F\", \"ky_F#/Gb\", \"ky_G\", \"ky_G#/Ab\", \"g_acoustic\", \"g_afrobeat\", \"g_alt-rock\", \"g_ambient\", \"g_black-metal\", \"g_blues\", \"g_breakbeat\", \"g_cantopop\", \"g_classical\", \"g_country\", \"g_dance\", \"g_dancehall\", \"g_deep-house\", \"g_disco\", \"g_downtempo\", \"g_drum-and-bass\", \"g_dub\", \"g_dubstep\", \"g_edm\", \"g_electro\", \"g_electronic\", \"g_emo\", \"g_folk\", \"g_forro\", \"g_french\", \"g_funk&soul\", \"g_garage\", \"g_german\", \"g_gospel\", \"g_goth\", \"g_guitar\", \"g_hardcore\", \"g_hip-hop\", \"g_house\", \"g_indian\", \"g_indie\", \"g_industrial\", \"g_jazz\", \"g_k-pop\", \"g_metal\", \"g_minimal-techno\", \"g_new-age\", \"g_other\", \"g_party\", \"g_piano\", \"g_pop\", \"g_progressive-house\", \"g_punk\", \"g_reggae&ska\", \"g_rock\", \"g_salsa\", \"g_samba\", \"g_sertanejo\", \"g_singer-songwriter\", \"g_spanish\", \"g_swedish\", \"g_tango\", \"g_tech-house\", \"g_techno\", \"g_trance\", \"g_trip-hop\"], \"y\": [4.9343245538895844e-17, 2.4671622769447922e-17, 9.868649107779169e-17, -1.4124504035508935e-15, -4.728727697477519e-16, 9.251858538542972e-17, 2.05596856412066e-17, 4.9343245538895844e-17, 4.11193712824132e-18, 8.018277400070575e-17, 1.3055400382166191e-16, -1.644774851296528e-17, -4.9343245538895844e-17, 7.298688402628344e-17, 5.3455182667137164e-17, 5.756711979537848e-17, 9.046261682130905e-17, 4.9343245538895844e-17, 3.4951465590051226e-17, -5.3455182667137164e-17, 8.22387425648264e-17, 2.05596856412066e-17, 7.709882115452476e-17, 0.0, 7.401486830834377e-17, 0.0, 0.0, 0.0, 7.401486830834377e-17, 0.0, 0.0, 0.0, 0.0, -8.22387425648264e-17, 0.0, 1.1513423959075697e-16, 4.9343245538895844e-17, 5.1399214103016507e-17, 0.0, 0.0, 9.868649107779169e-17, 4.11193712824132e-17, 4.11193712824132e-17, 2.05596856412066e-17, 0.0, 0.0, 0.0, 0.0, 3.700743415417188e-17, 5.1399214103016507e-17, 0.0, 0.0, 0.0, 0.0, 7.401486830834377e-17, 9.868649107779169e-17, 1.3158198810372225e-16, 0.0, 4.9343245538895844e-17, 0.0, 6.579099405186112e-17, 0.0, 0.0, 0.0, 0.0, 5.756711979537848e-17, 0.0, 0.0, -6.579099405186112e-17, 4.5231308410654523e-17, 0.0, 0.0, 4.9343245538895844e-17, 0.0, 0.0, 0.0, 0.0, 0.0, 0.0, 0.0, 1.644774851296528e-17, 0.0, 1.02798428206033e-17, 4.11193712824132e-17]}, {\"line\": {\"color\": \"black\"}, \"mode\": \"lines\", \"name\": \"Berlin\", \"type\": \"scatter\", \"x\": [\"duration_ms\", \"tempo\", \"loudness\", \"energy\", \"valence\", \"danceability\", \"speechiness\", \"instrumentalness\", \"acousticness\", \"liveness\", \"mode_maj\", \"ky_A\", \"ky_A#/Bb\", \"ky_B\", \"ky_C\", \"ky_C#/Db\", \"ky_D\", \"ky_D#/Eb\", \"ky_E\", \"ky_F\", \"ky_F#/Gb\", \"ky_G\", \"ky_G#/Ab\", \"g_acoustic\", \"g_afrobeat\", \"g_alt-rock\", \"g_ambient\", \"g_black-metal\", \"g_blues\", \"g_breakbeat\", \"g_cantopop\", \"g_classical\", \"g_country\", \"g_dance\", \"g_dancehall\", \"g_deep-house\", \"g_disco\", \"g_downtempo\", \"g_drum-and-bass\", \"g_dub\", \"g_dubstep\", \"g_edm\", \"g_electro\", \"g_electronic\", \"g_emo\", \"g_folk\", \"g_forro\", \"g_french\", \"g_funk&soul\", \"g_garage\", \"g_german\", \"g_gospel\", \"g_goth\", \"g_guitar\", \"g_hardcore\", \"g_hip-hop\", \"g_house\", \"g_indian\", \"g_indie\", \"g_industrial\", \"g_jazz\", \"g_k-pop\", \"g_metal\", \"g_minimal-techno\", \"g_new-age\", \"g_other\", \"g_party\", \"g_piano\", \"g_pop\", \"g_progressive-house\", \"g_punk\", \"g_reggae&ska\", \"g_rock\", \"g_salsa\", \"g_samba\", \"g_sertanejo\", \"g_singer-songwriter\", \"g_spanish\", \"g_swedish\", \"g_tango\", \"g_tech-house\", \"g_techno\", \"g_trance\", \"g_trip-hop\"], \"y\": [2.410132395166169e-16, 4.373943976412677e-16, 7.230397185498507e-16, -1.6067549301107794e-16, 6.694812208794913e-17, -2.1155606579791927e-15, -5.623642255387727e-16, 4.262363772932762e-16, 4.4632081391966094e-17, -6.248491394875253e-17, -2.2316040695983046e-18, 5.355849767035931e-17, 1.7852832556786437e-17, -3.5705665113572874e-17, 5.579010173995761e-17, 8.926416278393219e-18, 1.0711699534071862e-16, 5.355849767035931e-17, -1.7852832556786437e-17, 3.5705665113572874e-17, -8.480095464473557e-17, 7.141133022714575e-17, -2.6779248835179654e-17, 0.0, 0.0, 0.0, 0.0, 0.0, 0.0, 0.0, 0.0, 0.0, 0.0, 9.149576685353049e-17, 0.0, 1.1381180754951353e-16, 0.0, 0.0, 0.0, 0.0, 0.0, 3.5705665113572874e-17, 4.9095289531162704e-17, -4.0168873252769484e-17, 0.0, 0.0, 0.0, 4.9095289531162704e-17, 0.0, 0.0, 4.9095289531162704e-17, 0.0, 0.0, 0.0, 0.0, 0.0, 7.364293429674405e-17, 0.0, 4.9095289531162704e-17, 0.0, 0.0, 0.0, 0.0, -1.7852832556786437e-17, 0.0, 1.0711699534071862e-16, 0.0, 0.0, 3.4589863078773723e-17, 0.0, 0.0, 0.0, 0.0, 0.0, 0.0, 0.0, 0.0, 0.0, 0.0, 0.0, 1.7852832556786437e-17, 5.355849767035931e-17, 0.0, 0.0]}, {\"line\": {\"color\": \"green\"}, \"mode\": \"lines\", \"name\": \"Kingston\", \"type\": \"scatter\", \"x\": [\"duration_ms\", \"tempo\", \"loudness\", \"energy\", \"valence\", \"danceability\", \"speechiness\", \"instrumentalness\", \"acousticness\", \"liveness\", \"mode_maj\", \"ky_A\", \"ky_A#/Bb\", \"ky_B\", \"ky_C\", \"ky_C#/Db\", \"ky_D\", \"ky_D#/Eb\", \"ky_E\", \"ky_F\", \"ky_F#/Gb\", \"ky_G\", \"ky_G#/Ab\", \"g_acoustic\", \"g_afrobeat\", \"g_alt-rock\", \"g_ambient\", \"g_black-metal\", \"g_blues\", \"g_breakbeat\", \"g_cantopop\", \"g_classical\", \"g_country\", \"g_dance\", \"g_dancehall\", \"g_deep-house\", \"g_disco\", \"g_downtempo\", \"g_drum-and-bass\", \"g_dub\", \"g_dubstep\", \"g_edm\", \"g_electro\", \"g_electronic\", \"g_emo\", \"g_folk\", \"g_forro\", \"g_french\", \"g_funk&soul\", \"g_garage\", \"g_german\", \"g_gospel\", \"g_goth\", \"g_guitar\", \"g_hardcore\", \"g_hip-hop\", \"g_house\", \"g_indian\", \"g_indie\", \"g_industrial\", \"g_jazz\", \"g_k-pop\", \"g_metal\", \"g_minimal-techno\", \"g_new-age\", \"g_other\", \"g_party\", \"g_piano\", \"g_pop\", \"g_progressive-house\", \"g_punk\", \"g_reggae&ska\", \"g_rock\", \"g_salsa\", \"g_samba\", \"g_sertanejo\", \"g_singer-songwriter\", \"g_spanish\", \"g_swedish\", \"g_tango\", \"g_tech-house\", \"g_techno\", \"g_trance\", \"g_trip-hop\"], \"y\": [1.5338607577058085e-17, -3.885780586188048e-16, 3.2868444807981606e-18, -2.5984331645421015e-16, -2.6294755846385285e-17, 8.735702220076889e-16, -8.034508730839949e-17, 4.0902953538821554e-17, -1.7146372041497071e-16, 1.0225738384705389e-16, 3.5059674461847047e-17, 6.427606984671959e-17, 5.185910180814876e-17, 1.7529837230923523e-17, 7.742344776991223e-17, 4.674623261579606e-17, 2.337311630789803e-17, 0.0, 5.843279076974508e-17, 0.0, 5.843279076974508e-17, 5.843279076974508e-18, 5.843279076974508e-17, 0.0, 0.0, 0.0, 0.0, 0.0, 0.0, 0.0, 0.0, 0.0, 0.0, 0.0, 1.826024711554534e-17, 0.0, 0.0, 0.0, 0.0, 1.1686558153949016e-17, 0.0, 0.0, 0.0, 0.0, 0.0, 0.0, 0.0, 0.0, 0.0, 0.0, 0.0, 0.0, 0.0, 0.0, 0.0, 0.0, 0.0, 0.0, 0.0, 0.0, 0.0, 0.0, 0.0, 0.0, 0.0, 2.8851190442561634e-17, 0.0, 0.0, 0.0, 0.0, 0.0, 6.427606984671959e-17, 8.691877626999581e-17, 0.0, 0.0, 0.0, 0.0, 0.0, 0.0, 0.0, 0.0, 0.0, 0.0, 0.0]}, {\"line\": {\"color\": \"grey\"}, \"mode\": \"lines\", \"name\": \"NYC\", \"type\": \"scatter\", \"x\": [\"duration_ms\", \"tempo\", \"loudness\", \"energy\", \"valence\", \"danceability\", \"speechiness\", \"instrumentalness\", \"acousticness\", \"liveness\", \"mode_maj\", \"ky_A\", \"ky_A#/Bb\", \"ky_B\", \"ky_C\", \"ky_C#/Db\", \"ky_D\", \"ky_D#/Eb\", \"ky_E\", \"ky_F\", \"ky_F#/Gb\", \"ky_G\", \"ky_G#/Ab\", \"g_acoustic\", \"g_afrobeat\", \"g_alt-rock\", \"g_ambient\", \"g_black-metal\", \"g_blues\", \"g_breakbeat\", \"g_cantopop\", \"g_classical\", \"g_country\", \"g_dance\", \"g_dancehall\", \"g_deep-house\", \"g_disco\", \"g_downtempo\", \"g_drum-and-bass\", \"g_dub\", \"g_dubstep\", \"g_edm\", \"g_electro\", \"g_electronic\", \"g_emo\", \"g_folk\", \"g_forro\", \"g_french\", \"g_funk&soul\", \"g_garage\", \"g_german\", \"g_gospel\", \"g_goth\", \"g_guitar\", \"g_hardcore\", \"g_hip-hop\", \"g_house\", \"g_indian\", \"g_indie\", \"g_industrial\", \"g_jazz\", \"g_k-pop\", \"g_metal\", \"g_minimal-techno\", \"g_new-age\", \"g_other\", \"g_party\", \"g_piano\", \"g_pop\", \"g_progressive-house\", \"g_punk\", \"g_reggae&ska\", \"g_rock\", \"g_salsa\", \"g_samba\", \"g_sertanejo\", \"g_singer-songwriter\", \"g_spanish\", \"g_swedish\", \"g_tango\", \"g_tech-house\", \"g_techno\", \"g_trance\", \"g_trip-hop\"], \"y\": [2.242650509742816e-16, 5.945244296867714e-16, 2.2648549702353194e-16, 1.176836406102666e-16, -3.4861002973229917e-16, 1.4654943925052067e-16, -9.547918011776346e-17, 3.3306690738754695e-17, 1.1546319456101628e-16, 1.9095836023552692e-16, -4.440892098500626e-18, 5.329070518200751e-17, 2.6645352591003756e-17, -9.325873406851315e-17, 2.4424906541753444e-17, 5.10702591327572e-17, 3.3306690738754695e-17, 7.105427357601002e-17, 3.7747582837255325e-17, 5.662137425588298e-17, 2.4424906541753444e-17, 4.218847493575595e-17, 5.551115123125783e-17, 0.0, 0.0, 1.0658141036401502e-16, 0.0, 0.0, 0.0, 0.0, 0.0, 0.0, 0.0, 4.218847493575595e-17, 0.0, 0.0, 7.105427357601002e-17, 0.0, 0.0, 0.0, 0.0, 0.0, 1.0658141036401502e-16, 0.0, 0.0, 7.105427357601002e-17, 0.0, 0.0, -3.441691376337985e-17, 0.0, 0.0, 0.0, 0.0, 0.0, 0.0, -1.2434497875801754e-16, 0.0, 0.0, 7.105427357601002e-17, 0.0, 0.0, 0.0, 7.105427357601002e-17, 0.0, 0.0, 3.3306690738754695e-17, 0.0, 0.0, -8.881784197001253e-17, 0.0, 0.0, 0.0, -3.1086244689504386e-17, 0.0, 0.0, 0.0, 7.105427357601002e-17, 0.0, 0.0, 0.0, 0.0, 0.0, 0.0, 0.0]}, {\"line\": {\"color\": \"purple\"}, \"mode\": \"lines\", \"name\": \"LA\", \"type\": \"scatter\", \"x\": [\"duration_ms\", \"tempo\", \"loudness\", \"energy\", \"valence\", \"danceability\", \"speechiness\", \"instrumentalness\", \"acousticness\", \"liveness\", \"mode_maj\", \"ky_A\", \"ky_A#/Bb\", \"ky_B\", \"ky_C\", \"ky_C#/Db\", \"ky_D\", \"ky_D#/Eb\", \"ky_E\", \"ky_F\", \"ky_F#/Gb\", \"ky_G\", \"ky_G#/Ab\", \"g_acoustic\", \"g_afrobeat\", \"g_alt-rock\", \"g_ambient\", \"g_black-metal\", \"g_blues\", \"g_breakbeat\", \"g_cantopop\", \"g_classical\", \"g_country\", \"g_dance\", \"g_dancehall\", \"g_deep-house\", \"g_disco\", \"g_downtempo\", \"g_drum-and-bass\", \"g_dub\", \"g_dubstep\", \"g_edm\", \"g_electro\", \"g_electronic\", \"g_emo\", \"g_folk\", \"g_forro\", \"g_french\", \"g_funk&soul\", \"g_garage\", \"g_german\", \"g_gospel\", \"g_goth\", \"g_guitar\", \"g_hardcore\", \"g_hip-hop\", \"g_house\", \"g_indian\", \"g_indie\", \"g_industrial\", \"g_jazz\", \"g_k-pop\", \"g_metal\", \"g_minimal-techno\", \"g_new-age\", \"g_other\", \"g_party\", \"g_piano\", \"g_pop\", \"g_progressive-house\", \"g_punk\", \"g_reggae&ska\", \"g_rock\", \"g_salsa\", \"g_samba\", \"g_sertanejo\", \"g_singer-songwriter\", \"g_spanish\", \"g_swedish\", \"g_tango\", \"g_tech-house\", \"g_techno\", \"g_trance\", \"g_trip-hop\"], \"y\": [1.6824148911627372e-16, 3.9968028886505636e-16, -3.416070845000482e-17, 1.878838964750265e-16, 2.9549012809254165e-16, 1.1956247957501686e-17, 6.661338147750939e-17, 1.7614115294533733e-17, -1.3664283380001927e-16, -9.564998366001349e-17, -5.124106267500723e-17, 0.0, -2.3058478203753253e-17, -7.344552316751035e-17, 7.259150545626024e-17, 1.622633651375229e-17, 6.832141690000964e-18, 2.3058478203753253e-17, -8.540177112501205e-19, 8.113168256876144e-18, 3.5441735016879995e-17, -8.36937357025118e-17, 9.394194823751325e-18, 0.0, 0.0, -1.1102230246251566e-17, 0.0, 0.0, 5.978123978750843e-18, 0.0, 0.0, 0.0, 0.0, 0.0, 0.0, 0.0, 0.0, 0.0, 0.0, 0.0, 0.0, 0.0, 0.0, 0.0, 0.0, 0.0, 0.0, 0.0, 1.622633651375229e-17, 0.0, 0.0, 0.0, 0.0, 0.0, 0.0, 1.964240735875277e-17, 0.0, 0.0, 0.0, 0.0, 0.0, 0.0, -5.551115123125783e-18, 0.0, 0.0, -6.746739918875951e-17, 0.0, 0.0, -6.832141690000964e-18, 0.0, 0.0, 0.0, 0.0, 0.0, 0.0, 0.0, 0.0, 0.0, 0.0, 0.0, 0.0, 0.0, 0.0, 0.0]}],                        {\"template\": {\"data\": {\"bar\": [{\"error_x\": {\"color\": \"#2a3f5f\"}, \"error_y\": {\"color\": \"#2a3f5f\"}, \"marker\": {\"line\": {\"color\": \"#E5ECF6\", \"width\": 0.5}}, \"type\": \"bar\"}], \"barpolar\": [{\"marker\": {\"line\": {\"color\": \"#E5ECF6\", \"width\": 0.5}}, \"type\": \"barpolar\"}], \"carpet\": [{\"aaxis\": {\"endlinecolor\": \"#2a3f5f\", \"gridcolor\": \"white\", \"linecolor\": \"white\", \"minorgridcolor\": \"white\", \"startlinecolor\": \"#2a3f5f\"}, \"baxis\": {\"endlinecolor\": \"#2a3f5f\", \"gridcolor\": \"white\", \"linecolor\": \"white\", \"minorgridcolor\": \"white\", \"startlinecolor\": \"#2a3f5f\"}, \"type\": \"carpet\"}], \"choropleth\": [{\"colorbar\": {\"outlinewidth\": 0, \"ticks\": \"\"}, \"type\": \"choropleth\"}], \"contour\": [{\"colorbar\": {\"outlinewidth\": 0, \"ticks\": \"\"}, \"colorscale\": [[0.0, \"#0d0887\"], [0.1111111111111111, \"#46039f\"], [0.2222222222222222, \"#7201a8\"], [0.3333333333333333, \"#9c179e\"], [0.4444444444444444, \"#bd3786\"], [0.5555555555555556, \"#d8576b\"], [0.6666666666666666, \"#ed7953\"], [0.7777777777777778, \"#fb9f3a\"], [0.8888888888888888, \"#fdca26\"], [1.0, \"#f0f921\"]], \"type\": \"contour\"}], \"contourcarpet\": [{\"colorbar\": {\"outlinewidth\": 0, \"ticks\": \"\"}, \"type\": \"contourcarpet\"}], \"heatmap\": [{\"colorbar\": {\"outlinewidth\": 0, \"ticks\": \"\"}, \"colorscale\": [[0.0, \"#0d0887\"], [0.1111111111111111, \"#46039f\"], [0.2222222222222222, \"#7201a8\"], [0.3333333333333333, \"#9c179e\"], [0.4444444444444444, \"#bd3786\"], [0.5555555555555556, \"#d8576b\"], [0.6666666666666666, \"#ed7953\"], [0.7777777777777778, \"#fb9f3a\"], [0.8888888888888888, \"#fdca26\"], [1.0, \"#f0f921\"]], \"type\": \"heatmap\"}], \"heatmapgl\": [{\"colorbar\": {\"outlinewidth\": 0, \"ticks\": \"\"}, \"colorscale\": [[0.0, \"#0d0887\"], [0.1111111111111111, \"#46039f\"], [0.2222222222222222, \"#7201a8\"], [0.3333333333333333, \"#9c179e\"], [0.4444444444444444, \"#bd3786\"], [0.5555555555555556, \"#d8576b\"], [0.6666666666666666, \"#ed7953\"], [0.7777777777777778, \"#fb9f3a\"], [0.8888888888888888, \"#fdca26\"], [1.0, \"#f0f921\"]], \"type\": \"heatmapgl\"}], \"histogram\": [{\"marker\": {\"colorbar\": {\"outlinewidth\": 0, \"ticks\": \"\"}}, \"type\": \"histogram\"}], \"histogram2d\": [{\"colorbar\": {\"outlinewidth\": 0, \"ticks\": \"\"}, \"colorscale\": [[0.0, \"#0d0887\"], [0.1111111111111111, \"#46039f\"], [0.2222222222222222, \"#7201a8\"], [0.3333333333333333, \"#9c179e\"], [0.4444444444444444, \"#bd3786\"], [0.5555555555555556, \"#d8576b\"], [0.6666666666666666, \"#ed7953\"], [0.7777777777777778, \"#fb9f3a\"], [0.8888888888888888, \"#fdca26\"], [1.0, \"#f0f921\"]], \"type\": \"histogram2d\"}], \"histogram2dcontour\": [{\"colorbar\": {\"outlinewidth\": 0, \"ticks\": \"\"}, \"colorscale\": [[0.0, \"#0d0887\"], [0.1111111111111111, \"#46039f\"], [0.2222222222222222, \"#7201a8\"], [0.3333333333333333, \"#9c179e\"], [0.4444444444444444, \"#bd3786\"], [0.5555555555555556, \"#d8576b\"], [0.6666666666666666, \"#ed7953\"], [0.7777777777777778, \"#fb9f3a\"], [0.8888888888888888, \"#fdca26\"], [1.0, \"#f0f921\"]], \"type\": \"histogram2dcontour\"}], \"mesh3d\": [{\"colorbar\": {\"outlinewidth\": 0, \"ticks\": \"\"}, \"type\": \"mesh3d\"}], \"parcoords\": [{\"line\": {\"colorbar\": {\"outlinewidth\": 0, \"ticks\": \"\"}}, \"type\": \"parcoords\"}], \"pie\": [{\"automargin\": true, \"type\": \"pie\"}], \"scatter\": [{\"marker\": {\"colorbar\": {\"outlinewidth\": 0, \"ticks\": \"\"}}, \"type\": \"scatter\"}], \"scatter3d\": [{\"line\": {\"colorbar\": {\"outlinewidth\": 0, \"ticks\": \"\"}}, \"marker\": {\"colorbar\": {\"outlinewidth\": 0, \"ticks\": \"\"}}, \"type\": \"scatter3d\"}], \"scattercarpet\": [{\"marker\": {\"colorbar\": {\"outlinewidth\": 0, \"ticks\": \"\"}}, \"type\": \"scattercarpet\"}], \"scattergeo\": [{\"marker\": {\"colorbar\": {\"outlinewidth\": 0, \"ticks\": \"\"}}, \"type\": \"scattergeo\"}], \"scattergl\": [{\"marker\": {\"colorbar\": {\"outlinewidth\": 0, \"ticks\": \"\"}}, \"type\": \"scattergl\"}], \"scattermapbox\": [{\"marker\": {\"colorbar\": {\"outlinewidth\": 0, \"ticks\": \"\"}}, \"type\": \"scattermapbox\"}], \"scatterpolar\": [{\"marker\": {\"colorbar\": {\"outlinewidth\": 0, \"ticks\": \"\"}}, \"type\": \"scatterpolar\"}], \"scatterpolargl\": [{\"marker\": {\"colorbar\": {\"outlinewidth\": 0, \"ticks\": \"\"}}, \"type\": \"scatterpolargl\"}], \"scatterternary\": [{\"marker\": {\"colorbar\": {\"outlinewidth\": 0, \"ticks\": \"\"}}, \"type\": \"scatterternary\"}], \"surface\": [{\"colorbar\": {\"outlinewidth\": 0, \"ticks\": \"\"}, \"colorscale\": [[0.0, \"#0d0887\"], [0.1111111111111111, \"#46039f\"], [0.2222222222222222, \"#7201a8\"], [0.3333333333333333, \"#9c179e\"], [0.4444444444444444, \"#bd3786\"], [0.5555555555555556, \"#d8576b\"], [0.6666666666666666, \"#ed7953\"], [0.7777777777777778, \"#fb9f3a\"], [0.8888888888888888, \"#fdca26\"], [1.0, \"#f0f921\"]], \"type\": \"surface\"}], \"table\": [{\"cells\": {\"fill\": {\"color\": \"#EBF0F8\"}, \"line\": {\"color\": \"white\"}}, \"header\": {\"fill\": {\"color\": \"#C8D4E3\"}, \"line\": {\"color\": \"white\"}}, \"type\": \"table\"}]}, \"layout\": {\"annotationdefaults\": {\"arrowcolor\": \"#2a3f5f\", \"arrowhead\": 0, \"arrowwidth\": 1}, \"coloraxis\": {\"colorbar\": {\"outlinewidth\": 0, \"ticks\": \"\"}}, \"colorscale\": {\"diverging\": [[0, \"#8e0152\"], [0.1, \"#c51b7d\"], [0.2, \"#de77ae\"], [0.3, \"#f1b6da\"], [0.4, \"#fde0ef\"], [0.5, \"#f7f7f7\"], [0.6, \"#e6f5d0\"], [0.7, \"#b8e186\"], [0.8, \"#7fbc41\"], [0.9, \"#4d9221\"], [1, \"#276419\"]], \"sequential\": [[0.0, \"#0d0887\"], [0.1111111111111111, \"#46039f\"], [0.2222222222222222, \"#7201a8\"], [0.3333333333333333, \"#9c179e\"], [0.4444444444444444, \"#bd3786\"], [0.5555555555555556, \"#d8576b\"], [0.6666666666666666, \"#ed7953\"], [0.7777777777777778, \"#fb9f3a\"], [0.8888888888888888, \"#fdca26\"], [1.0, \"#f0f921\"]], \"sequentialminus\": [[0.0, \"#0d0887\"], [0.1111111111111111, \"#46039f\"], [0.2222222222222222, \"#7201a8\"], [0.3333333333333333, \"#9c179e\"], [0.4444444444444444, \"#bd3786\"], [0.5555555555555556, \"#d8576b\"], [0.6666666666666666, \"#ed7953\"], [0.7777777777777778, \"#fb9f3a\"], [0.8888888888888888, \"#fdca26\"], [1.0, \"#f0f921\"]]}, \"colorway\": [\"#636efa\", \"#EF553B\", \"#00cc96\", \"#ab63fa\", \"#FFA15A\", \"#19d3f3\", \"#FF6692\", \"#B6E880\", \"#FF97FF\", \"#FECB52\"], \"font\": {\"color\": \"#2a3f5f\"}, \"geo\": {\"bgcolor\": \"white\", \"lakecolor\": \"white\", \"landcolor\": \"#E5ECF6\", \"showlakes\": true, \"showland\": true, \"subunitcolor\": \"white\"}, \"hoverlabel\": {\"align\": \"left\"}, \"hovermode\": \"closest\", \"mapbox\": {\"style\": \"light\"}, \"paper_bgcolor\": \"white\", \"plot_bgcolor\": \"#E5ECF6\", \"polar\": {\"angularaxis\": {\"gridcolor\": \"white\", \"linecolor\": \"white\", \"ticks\": \"\"}, \"bgcolor\": \"#E5ECF6\", \"radialaxis\": {\"gridcolor\": \"white\", \"linecolor\": \"white\", \"ticks\": \"\"}}, \"scene\": {\"xaxis\": {\"backgroundcolor\": \"#E5ECF6\", \"gridcolor\": \"white\", \"gridwidth\": 2, \"linecolor\": \"white\", \"showbackground\": true, \"ticks\": \"\", \"zerolinecolor\": \"white\"}, \"yaxis\": {\"backgroundcolor\": \"#E5ECF6\", \"gridcolor\": \"white\", \"gridwidth\": 2, \"linecolor\": \"white\", \"showbackground\": true, \"ticks\": \"\", \"zerolinecolor\": \"white\"}, \"zaxis\": {\"backgroundcolor\": \"#E5ECF6\", \"gridcolor\": \"white\", \"gridwidth\": 2, \"linecolor\": \"white\", \"showbackground\": true, \"ticks\": \"\", \"zerolinecolor\": \"white\"}}, \"shapedefaults\": {\"line\": {\"color\": \"#2a3f5f\"}}, \"ternary\": {\"aaxis\": {\"gridcolor\": \"white\", \"linecolor\": \"white\", \"ticks\": \"\"}, \"baxis\": {\"gridcolor\": \"white\", \"linecolor\": \"white\", \"ticks\": \"\"}, \"bgcolor\": \"#E5ECF6\", \"caxis\": {\"gridcolor\": \"white\", \"linecolor\": \"white\", \"ticks\": \"\"}}, \"title\": {\"x\": 0.05}, \"xaxis\": {\"automargin\": true, \"gridcolor\": \"white\", \"linecolor\": \"white\", \"ticks\": \"\", \"title\": {\"standoff\": 15}, \"zerolinecolor\": \"white\", \"zerolinewidth\": 2}, \"yaxis\": {\"automargin\": true, \"gridcolor\": \"white\", \"linecolor\": \"white\", \"ticks\": \"\", \"title\": {\"standoff\": 15}, \"zerolinecolor\": \"white\", \"zerolinewidth\": 2}}}, \"title\": {\"text\": \"Track Archetypes\"}, \"xaxis\": {\"title\": {\"text\": \"Attributes\"}}, \"yaxis\": {\"title\": {\"text\": \"Scaled score\"}}},                        {\"responsive\": true}                    ).then(function(){\n",
       "                            \n",
       "var gd = document.getElementById('77403b1a-e013-4bf0-8294-c2aea72263f0');\n",
       "var x = new MutationObserver(function (mutations, observer) {{\n",
       "        var display = window.getComputedStyle(gd).display;\n",
       "        if (!display || display === 'none') {{\n",
       "            console.log([gd, 'removed!']);\n",
       "            Plotly.purge(gd);\n",
       "            observer.disconnect();\n",
       "        }}\n",
       "}});\n",
       "\n",
       "// Listen for the removal of the full notebook cells\n",
       "var notebookContainer = gd.closest('#notebook-container');\n",
       "if (notebookContainer) {{\n",
       "    x.observe(notebookContainer, {childList: true});\n",
       "}}\n",
       "\n",
       "// Listen for the clearing of the current output cell\n",
       "var outputEl = gd.closest('.output');\n",
       "if (outputEl) {{\n",
       "    x.observe(outputEl, {childList: true});\n",
       "}}\n",
       "\n",
       "                        })                };                });            </script>        </div>"
      ]
     },
     "metadata": {},
     "output_type": "display_data"
    }
   ],
   "source": [
    "import plotly.graph_objects as go\n",
    "\n",
    "# Get the index values as x-axis values\n",
    "x = london_arch_scl.index.tolist()\n",
    "\n",
    "# Create traces for each dataset\n",
    "trace_london = go.Scatter(x=x, y=london_arch_scl.values, mode='lines', name='London', line=dict(color='blue'))\n",
    "trace_manchester = go.Scatter(x=x, y=manchester_arch_scl.values, mode='lines', name='Manchester', line=dict(color='red'))\n",
    "trace_ibiza = go.Scatter(x=x, y=ibiza_arch_scl.values, mode='lines', name='Ibiza', line=dict(color='orange'))\n",
    "trace_berlin = go.Scatter(x=x, y=berlin_arch_scl.values, mode='lines', name='Berlin', line=dict(color='black'))\n",
    "trace_kingston = go.Scatter(x=x, y=kingston_arch_scl.values, mode='lines', name='Kingston', line=dict(color='green'))\n",
    "trace_nyc = go.Scatter(x=x, y=nyc_arch_scl.values, mode='lines', name='NYC', line=dict(color='grey'))\n",
    "trace_la = go.Scatter(x=x, y=la_arch_scl.values, mode='lines', name='LA', line=dict(color='purple'))\n",
    "\n",
    "# Create figure and add traces\n",
    "fig = go.Figure()\n",
    "fig.add_trace(trace_london)\n",
    "fig.add_trace(trace_manchester)\n",
    "fig.add_trace(trace_ibiza)\n",
    "fig.add_trace(trace_berlin)\n",
    "fig.add_trace(trace_kingston)\n",
    "fig.add_trace(trace_nyc)\n",
    "fig.add_trace(trace_la)\n",
    "\n",
    "# Update layout\n",
    "fig.update_layout(\n",
    "    title='Track Archetypes',\n",
    "    xaxis_title='Attributes',\n",
    "    yaxis_title='Scaled score'\n",
    ")\n",
    "\n",
    "# Show the plot\n",
    "fig.show()\n"
   ]
  },
  {
   "cell_type": "markdown",
   "metadata": {},
   "source": [
    "#### Create Track Archetype df\n",
    "\n",
    "archetypes_raw_test = pd.concat()\n"
   ]
  },
  {
   "cell_type": "code",
   "execution_count": null,
   "metadata": {},
   "outputs": [],
   "source": [
    "archetypes = "
   ]
  },
  {
   "cell_type": "markdown",
   "metadata": {},
   "source": [
    "#### Compare Track archetypes"
   ]
  },
  {
   "cell_type": "code",
   "execution_count": null,
   "metadata": {},
   "outputs": [],
   "source": [
    "plt.figure(figsize=(20, 20))\n",
    "sns.heatmap(df_num.corr(), cmap='coolwarm', annot=True, center = 0)\n",
    "plt.show()"
   ]
  },
  {
   "cell_type": "code",
   "execution_count": null,
   "metadata": {},
   "outputs": [],
   "source": []
  },
  {
   "cell_type": "markdown",
   "metadata": {},
   "source": [
    "### **Other**"
   ]
  },
  {
   "cell_type": "code",
   "execution_count": null,
   "metadata": {},
   "outputs": [],
   "source": [
    "## //nb - Reverse Scaling (most transformers have an inverse method to undo centers)\n",
    "#scaler.inverse_transform()\n",
    "\n",
    "## //nb - Combined fitting and transformation - ONLY USE ON TRAINING DATA!!\n",
    "#scaler.fit_transform()"
   ]
  },
  {
   "cell_type": "markdown",
   "metadata": {},
   "source": [
    "## ***WORKING***"
   ]
  },
  {
   "cell_type": "markdown",
   "metadata": {},
   "source": [
    "#### Raw, unscaled."
   ]
  },
  {
   "cell_type": "code",
   "execution_count": 113,
   "metadata": {},
   "outputs": [
    {
     "ename": "SyntaxError",
     "evalue": "'break' outside loop (668683560.py, line 1)",
     "output_type": "error",
     "traceback": [
      "\u001b[0;36m  Cell \u001b[0;32mIn[113], line 1\u001b[0;36m\u001b[0m\n\u001b[0;31m    break\u001b[0m\n\u001b[0m    ^\u001b[0m\n\u001b[0;31mSyntaxError\u001b[0m\u001b[0;31m:\u001b[0m 'break' outside loop\n"
     ]
    }
   ],
   "source": [
    "break"
   ]
  },
  {
   "cell_type": "code",
   "execution_count": 109,
   "metadata": {},
   "outputs": [],
   "source": [
    "london_snd_df20lab, london_snd_df20num = b3.df_numcat(london_snd_df20)\n",
    "manchester_snd_df20lab, manchester_snd_df20num = b3.df_numcat(manchester_snd_df20)\n",
    "ibiza_snd_df20lab, ibiza_snd_df20num = b3.df_numcat(ibiza_snd_df20)\n",
    "berlin_snd_df20lab, berlin_snd_df20num = b3.df_numcat(berlin_snd_df20)\n",
    "kingston_snd_df20lab, kingston_snd_df20num = b3.df_numcat(kingston_snd_df20)\n",
    "nyc_snd_df20lab, nyc_snd_df20num = b3.df_numcat(nyc_snd_df20)\n",
    "la_snd_df20lab, la_snd_df20num = b3.df_numcat(la_snd_df20)\n",
    "combined_snd_df20lab, combined_snd_df20num = b3.df_numcat(combined_snd_df20)"
   ]
  },
  {
   "cell_type": "code",
   "execution_count": 110,
   "metadata": {},
   "outputs": [],
   "source": [
    "london_arch = london_snd_df20num.mean()\n",
    "manchester_arch = manchester_snd_df20num.mean()\n",
    "ibiza_arch = ibiza_snd_df20num.mean()\n",
    "berlin_arch = berlin_snd_df20num.mean()\n",
    "kingston_arch = kingston_snd_df20num.mean()\n",
    "nyc_arch = nyc_snd_df20num.mean()\n",
    "la_arch = la_snd_df20num.mean()\n",
    "combined_arch = combined_snd_df20num.mean()\n"
   ]
  },
  {
   "cell_type": "code",
   "execution_count": 111,
   "metadata": {},
   "outputs": [
    {
     "data": {
      "text/plain": [
       "[<matplotlib.lines.Line2D at 0x152815460>]"
      ]
     },
     "execution_count": 111,
     "metadata": {},
     "output_type": "execute_result"
    },
    {
     "data": {
      "image/png": "[encoded data removed]",
      "text/plain": [
       "<Figure size 640x480 with 1 Axes>"
      ]
     },
     "metadata": {},
     "output_type": "display_data"
    }
   ],
   "source": [
    "plt.plot(london_arch)\n",
    "plt.plot(manchester_arch)\n",
    "plt.plot(ibiza_arch)\n",
    "plt.plot(berlin_arch)\n",
    "plt.plot(kingston_arch)\n",
    "plt.plot(nyc_arch)\n",
    "plt.plot(la_arch)\n",
    "# plt.plot(combined_arch_raw)"
   ]
  },
  {
   "cell_type": "code",
   "execution_count": null,
   "metadata": {},
   "outputs": [],
   "source": []
  }
 ],
 "metadata": {
  "kernelspec": {
   "display_name": "b3ta",
   "language": "python",
   "name": "b3ta"
  },
  "language_info": {
   "codemirror_mode": {
    "name": "ipython",
    "version": 3
   },
   "file_extension": ".py",
   "mimetype": "text/x-python",
   "name": "python",
   "nbconvert_exporter": "python",
   "pygments_lexer": "ipython3",
   "version": "3.8.18"
  }
 },
 "nbformat": 4,
 "nbformat_minor": 2
}
